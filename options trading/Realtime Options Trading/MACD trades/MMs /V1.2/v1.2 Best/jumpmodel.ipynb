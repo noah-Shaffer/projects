{
 "cells": [
  {
   "cell_type": "code",
   "execution_count": null,
   "id": "17f48e6c",
   "metadata": {},
   "outputs": [],
   "source": []
  },
  {
   "cell_type": "markdown",
   "id": "e41a8ded",
   "metadata": {},
   "source": [
    "run then jump model to only trade if high prob or upcoming chance of jumps "
   ]
  }
 ],
 "metadata": {
  "language_info": {
   "name": "python"
  }
 },
 "nbformat": 4,
 "nbformat_minor": 5
}

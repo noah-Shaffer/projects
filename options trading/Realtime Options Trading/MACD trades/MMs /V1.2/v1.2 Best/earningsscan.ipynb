{
 "cells": [
  {
   "cell_type": "markdown",
   "id": "d0add3c6",
   "metadata": {},
   "source": [
    "Create an upcoming earnings screener that takes past price moves and finds a probability of earnings shock with an RF, and find the historical IV or current and how much it changes leading into earnings, to buy before the spike. Then buy the deep OTM straddle weeks before earnings event. "
   ]
  },
  {
   "cell_type": "markdown",
   "id": "cf742012",
   "metadata": {},
   "source": [
    "could also do a gradient boosted long vol model with both straddle legs "
   ]
  },
  {
   "cell_type": "code",
   "execution_count": null,
   "id": "1e0507f8",
   "metadata": {},
   "outputs": [],
   "source": []
  }
 ],
 "metadata": {
  "kernelspec": {
   "display_name": "base",
   "language": "python",
   "name": "python3"
  },
  "language_info": {
   "codemirror_mode": {
    "name": "ipython",
    "version": 3
   },
   "file_extension": ".py",
   "mimetype": "text/x-python",
   "name": "python",
   "nbconvert_exporter": "python",
   "pygments_lexer": "ipython3",
   "version": "3.12.7"
  }
 },
 "nbformat": 4,
 "nbformat_minor": 5
}

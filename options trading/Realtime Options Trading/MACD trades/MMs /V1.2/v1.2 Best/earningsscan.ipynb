{
 "cells": [
  {
   "cell_type": "code",
   "execution_count": 1,
   "id": "63729444",
   "metadata": {},
   "outputs": [
    {
     "ename": "AttributeError",
     "evalue": "module 'pandas' has no attribute 'to_csv'",
     "output_type": "error",
     "traceback": [
      "\u001b[0;31m---------------------------------------------------------------------------\u001b[0m",
      "\u001b[0;31mAttributeError\u001b[0m                            Traceback (most recent call last)",
      "Cell \u001b[0;32mIn[1], line 2\u001b[0m\n\u001b[1;32m      1\u001b[0m \u001b[38;5;28;01mimport\u001b[39;00m \u001b[38;5;21;01mpandas\u001b[39;00m \u001b[38;5;28;01mas\u001b[39;00m \u001b[38;5;21;01mpd\u001b[39;00m\n\u001b[0;32m----> 2\u001b[0m datafix \u001b[38;5;241m=\u001b[39m pd\u001b[38;5;241m.\u001b[39mto_csv(\u001b[38;5;124m'\u001b[39m\u001b[38;5;124m/Users/nshaffer/Desktop/hmm_model_datafix.csv\u001b[39m\u001b[38;5;124m'\u001b[39m)\n",
      "\u001b[0;31mAttributeError\u001b[0m: module 'pandas' has no attribute 'to_csv'"
     ]
    }
   ],
   "source": [
    "import pandas as pd\n",
    "datafix = pd.to_csv('/Users/nshaffer/Desktop/hmm_model_datafix.csv')"
   ]
  },
  {
   "cell_type": "markdown",
   "id": "d0add3c6",
   "metadata": {},
   "source": [
    "Create an upcoming earnings screener that takes past price moves and finds a probability of earnings shock with an RF, and find the historical IV or current and how much it changes leading into earnings, to buy before the spike. Then buy the deep OTM straddle weeks before earnings event. "
   ]
  },
  {
   "cell_type": "markdown",
   "id": "cf742012",
   "metadata": {},
   "source": [
    "could also do a gradient boosted long vol model with both straddle legs "
   ]
  },
  {
   "cell_type": "code",
   "execution_count": null,
   "id": "1e0507f8",
   "metadata": {},
   "outputs": [],
   "source": []
  }
 ],
 "metadata": {
  "kernelspec": {
   "display_name": "base",
   "language": "python",
   "name": "python3"
  },
  "language_info": {
   "codemirror_mode": {
    "name": "ipython",
    "version": 3
   },
   "file_extension": ".py",
   "mimetype": "text/x-python",
   "name": "python",
   "nbconvert_exporter": "python",
   "pygments_lexer": "ipython3",
   "version": "3.12.7"
  }
 },
 "nbformat": 4,
 "nbformat_minor": 5
}

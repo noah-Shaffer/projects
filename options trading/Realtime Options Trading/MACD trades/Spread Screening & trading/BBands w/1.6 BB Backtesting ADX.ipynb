{
 "cells": [
  {
   "cell_type": "markdown",
   "id": "f9b35660",
   "metadata": {},
   "source": [
    "add volume thresholds and only trade when the underlying isn't going exponential against the spread positions Also only run a naive backtest"
   ]
  },
  {
   "cell_type": "code",
   "execution_count": null,
   "id": "d4434853",
   "metadata": {},
   "outputs": [
    {
     "name": "stderr",
     "output_type": "stream",
     "text": [
      "Error 162, reqId 9: Historical Market Data Service error message:HMDS query returned no data: GOOG  250725C00180000@SMART Trades, contract: Option(conId=789542339, symbol='GOOG', lastTradeDateOrContractMonth='20250725', strike=180.0, right='C', multiplier='100', exchange='SMART', currency='USD', localSymbol='GOOG  250725C00180000', tradingClass='GOOG')\n"
     ]
    },
    {
     "name": "stdout",
     "output_type": "stream",
     "text": [
      "No more bars available.\n"
     ]
    }
   ],
   "source": [
    "import nest_asyncio\n",
    "nest_asyncio.apply()\n",
    "\n",
    "import asyncio\n",
    "from ib_insync import *\n",
    "import pandas as pd\n",
    "import numpy as np\n",
    "import plotly.graph_objects as go\n",
    "import matplotlib.pyplot as plt\n",
    "\n",
    "# --- PARAMETERS ---\n",
    "numbars = 14400\n",
    "durationStr = '7 D'\n",
    "barSizeSetting = '1 min'\n",
    "symbol1 = 'GOOG'\n",
    "lastTradeDateOrContractMonth1 = '20250725'\n",
    "strike1 = 180\n",
    "right1 = 'C'\n",
    "symbol2 = symbol1\n",
    "lastTradeDateOrContractMonth2 = lastTradeDateOrContractMonth1\n",
    "strike2 = 190\n",
    "right2 = right1\n",
    "window = 20\n",
    "num_std = 2\n",
    "\n",
    "# --- FETCH FUNCTION ---\n",
    "async def fetch_option(symbol, lastTradeDateOrContractMonth, strike, right, num_bars):\n",
    "    ib = IB()\n",
    "    await ib.connectAsync('127.0.0.1', 7497, clientId=np.random.randint(1000, 10000))\n",
    "    option_contract = Option(\n",
    "        symbol=symbol,\n",
    "        lastTradeDateOrContractMonth=lastTradeDateOrContractMonth,\n",
    "        strike=strike,\n",
    "        right=right,\n",
    "        exchange='SMART',\n",
    "        currency='USD'\n",
    "    )\n",
    "    await ib.qualifyContractsAsync(option_contract)\n",
    "    all_bars = []\n",
    "    end_time = ''\n",
    "    while len(all_bars) < num_bars:\n",
    "        bars = await ib.reqHistoricalDataAsync(\n",
    "            contract=option_contract,\n",
    "            endDateTime=end_time,\n",
    "            durationStr=durationStr,\n",
    "            barSizeSetting=barSizeSetting,\n",
    "            whatToShow='TRADES',\n",
    "            useRTH=True,\n",
    "            formatDate=1\n",
    "        )\n",
    "        if not bars:\n",
    "            print(\"No more bars available.\")\n",
    "            break\n",
    "        all_bars = bars + all_bars\n",
    "        end_time = (bars[0].date - pd.Timedelta(minutes=1)).strftime('%Y%m%d %H:%M:%S')\n",
    "        await asyncio.sleep(1)\n",
    "    all_bars = all_bars[-num_bars:]\n",
    "    df = util.df(all_bars)\n",
    "    df.set_index('date', inplace=True)\n",
    "    df.rename(columns={'close': 'Close'}, inplace=True)\n",
    "    ib.disconnect()\n",
    "    return df\n",
    "\n",
    "# --- MAIN LOGIC ---\n",
    "async def main():\n",
    "    # Fetch option close prices\n",
    "    datafix = await fetch_option(symbol1, lastTradeDateOrContractMonth1, strike1, right1, numbars)\n",
    "    datafix2 = await fetch_option(symbol2, lastTradeDateOrContractMonth2, strike2, right2, numbars)\n",
    "    datafix.index = datafix.index.tz_localize(None)\n",
    "    datafix2.index = datafix2.index.tz_localize(None)\n",
    "\n",
    "    # Calculate spread\n",
    "    datafix[\"spread\"] = datafix[\"Close\"] - datafix2[\"Close\"]\n",
    "\n",
    "    # Calculate Bollinger Bands on Spread\n",
    "    datafix['bb_middle'] = datafix['spread'].rolling(window=window).mean()\n",
    "    datafix['bb_std'] = datafix['spread'].rolling(window=window).std()\n",
    "    datafix['bb_upper'] = datafix['bb_middle'] + num_std * datafix['bb_std']\n",
    "    datafix['bb_lower'] = datafix['bb_middle'] - num_std * datafix['bb_std']\n",
    "\n",
    "    # Dual moving averages\n",
    "    datafix['sma_20'] = datafix['spread'].rolling(window=20).mean()\n",
    "    datafix['sma_50'] = datafix['spread'].rolling(window=50).mean()\n",
    "\n",
    "    # Generate Buy/Sell/Hold Signals based on BB and dual MA regime\n",
    "    datafix['prev_spread'] = datafix['spread'].shift(1)\n",
    "    datafix['prev_bb_lower'] = datafix['bb_lower'].shift(1)\n",
    "    datafix['prev_bb_upper'] = datafix['bb_upper'].shift(1)\n",
    "\n",
    "    bb_buy = (datafix['prev_spread'] > datafix['prev_bb_lower']) & (datafix['spread'] < datafix['bb_lower'])\n",
    "    bb_sell = (datafix['prev_spread'] < datafix['prev_bb_upper']) & (datafix['spread'] > datafix['bb_upper'])\n",
    "\n",
    "    # Dual MA regime filter\n",
    "    buy_mask = bb_buy & (datafix['sma_20'] > datafix['sma_50'])\n",
    "    sell_mask = bb_sell & (datafix['sma_20'] < datafix['sma_50'])\n",
    "\n",
    "    datafix['bb_signal'] = 'hold'\n",
    "    datafix.loc[buy_mask, 'bb_signal'] = 'buy'\n",
    "    datafix.loc[sell_mask, 'bb_signal'] = 'sell'\n",
    "\n",
    "    # --- Backtest with Delayed Entry/Exit (next close) and Single Position ---\n",
    "    initial_capital = 1000\n",
    "    capital = initial_capital\n",
    "    position = 0  # 1 for long, -1 for short, 0 for flat\n",
    "    positions = []\n",
    "    portfolio = []\n",
    "    entry_spread = None\n",
    "    fee = 5  # dollar fee per trade\n",
    "\n",
    "    pending_entry = None  # 'long', 'short', or None\n",
    "    pending_exit = False  # True if we need to close on next bar\n",
    "\n",
    "    for i, (dt, row) in enumerate(datafix.iterrows()):\n",
    "        sig = row['bb_signal']\n",
    "        spread = row['spread']\n",
    "\n",
    "        # Execute pending exit if any\n",
    "        if pending_exit:\n",
    "            if position == 1:  # close long\n",
    "                pnl = (spread - entry_spread) * 100\n",
    "                capital += pnl\n",
    "                capital -= fee\n",
    "                position = 0\n",
    "                entry_spread = None\n",
    "            elif position == -1:  # close short\n",
    "                pnl = (entry_spread - spread) * 100\n",
    "                capital += pnl\n",
    "                capital -= fee\n",
    "                position = 0\n",
    "                entry_spread = None\n",
    "            pending_exit = False\n",
    "\n",
    "        # Execute pending entry if any\n",
    "        if pending_entry is not None and position == 0:\n",
    "            if pending_entry == 'long':\n",
    "                position = 1\n",
    "                entry_spread = spread\n",
    "                capital -= fee\n",
    "            elif pending_entry == 'short':\n",
    "                position = -1\n",
    "                entry_spread = spread\n",
    "                capital -= fee\n",
    "            pending_entry = None\n",
    "\n",
    "        # Set pending exit/entry based on current signal\n",
    "        if position == 0:\n",
    "            if sig == 'buy':\n",
    "                pending_entry = 'long'\n",
    "            elif sig == 'sell':\n",
    "                pending_entry = 'short'\n",
    "        elif position == 1 and sig == 'sell':\n",
    "            pending_exit = True\n",
    "        elif position == -1 and sig == 'buy':\n",
    "            pending_exit = True\n",
    "\n",
    "        portfolio.append(capital)\n",
    "        positions.append(position)\n",
    "\n",
    "    datafix['BB_Position'] = positions\n",
    "    datafix['BB_Portfolio'] = portfolio\n",
    "\n",
    "    total_return = datafix['BB_Portfolio'].iloc[-1] - initial_capital\n",
    "    print(f\"Total Strategy $ Return (Bollinger Bands + Dual MA filter): ${total_return:.2f}\")\n",
    "\n",
    "    # Plot spread, BBs, signals and both MAs\n",
    "    fig = go.Figure()\n",
    "    fig.add_trace(go.Scatter(\n",
    "        x=datafix.index, y=datafix[\"spread\"],\n",
    "        mode='lines', name='Spread', line=dict(color='black', width=2)\n",
    "    ))\n",
    "    fig.add_trace(go.Scatter(\n",
    "        x=datafix.index, y=datafix['bb_upper'],\n",
    "        mode='lines', name='BB Upper', line=dict(color='green', dash='dash')\n",
    "    ))\n",
    "    fig.add_trace(go.Scatter(\n",
    "        x=datafix.index, y=datafix['bb_lower'],\n",
    "        mode='lines', name='BB Lower', line=dict(color='red', dash='dash')\n",
    "    ))\n",
    "    fig.add_trace(go.Scatter(\n",
    "        x=datafix.index, y=datafix['bb_middle'],\n",
    "        mode='lines', name='BB Middle', line=dict(color='orange', dash='dot')\n",
    "    ))\n",
    "    fig.add_trace(go.Scatter(\n",
    "        x=datafix.index, y=datafix['sma_20'],\n",
    "        mode='lines', name='SMA 20', line=dict(color='blue', dash='dot')\n",
    "    ))\n",
    "    fig.add_trace(go.Scatter(\n",
    "        x=datafix.index, y=datafix['sma_50'],\n",
    "        mode='lines', name='SMA 50', line=dict(color='purple', dash='dot')\n",
    "    ))\n",
    "    buy_signals = datafix[datafix[\"bb_signal\"] == \"buy\"]\n",
    "    fig.add_trace(go.Scatter(\n",
    "        x=buy_signals.index, y=buy_signals[\"spread\"],\n",
    "        mode='markers', name='Buy (on spread)',\n",
    "        marker=dict(symbol='triangle-up', color='green', size=14, line=dict(color='black', width=1.5))\n",
    "    ))\n",
    "    sell_signals = datafix[datafix[\"bb_signal\"] == \"sell\"]\n",
    "    fig.add_trace(go.Scatter(\n",
    "        x=sell_signals.index, y=sell_signals[\"spread\"],\n",
    "        mode='markers', name='Sell (on spread)',\n",
    "        marker=dict(symbol='triangle-down', color='red', size=14, line=dict(color='black', width=1.5))\n",
    "    ))\n",
    "    fig.update_layout(\n",
    "        title=\"Spread, Bollinger Bands, Dual MA Regime Filter and Buy/Sell Signals\",\n",
    "        xaxis_title=\"Date\",\n",
    "        yaxis_title=\"Spread\",\n",
    "        legend=dict(x=0.01, y=0.99),\n",
    "        hovermode='x unified',\n",
    "        template='plotly_white',\n",
    "        width=1000,\n",
    "        height=500\n",
    "    )\n",
    "    fig.show()\n",
    "\n",
    "    # Plot cumulative P&L\n",
    "    plt.figure(figsize=(14, 7))\n",
    "    plt.plot(datafix.index, datafix['BB_Portfolio'], label='BB + Dual MA filter Cumulative $ P&L', color='blue', linewidth=2)\n",
    "    plt.title('Cumulative $ P&L from BB + Dual MA filter Strategy')\n",
    "    plt.xlabel('Date')\n",
    "    plt.ylabel('Portfolio Value ($)')\n",
    "    plt.legend(loc='upper left')\n",
    "    plt.grid(True, linestyle='--', alpha=0.5)\n",
    "    plt.tight_layout()\n",
    "    plt.show()\n",
    "\n",
    "    # --- Trade Performance Metrics: Match Pending Entry/Exit Logic ---\n",
    "    trades = []\n",
    "    entry_spread = None\n",
    "    entry_idx = None\n",
    "    pending_entry = None\n",
    "    pending_exit = False\n",
    "    position = 0  \n",
    "    fee_stats = 5\n",
    "\n",
    "    for i, (dt, row) in enumerate(datafix.iterrows()):\n",
    "        sig = row['bb_signal']\n",
    "        spread = row['spread']\n",
    "\n",
    "        # Execute pending exit if any\n",
    "        if pending_exit:\n",
    "            if position == 1:  # close long\n",
    "                ret = (spread - entry_spread) * 100 - 2 * fee_stats\n",
    "                trades.append({'type': 'long', 'entry_idx': entry_idx, 'exit_idx': i, 'ret': ret})\n",
    "                position = 0\n",
    "                entry_spread = None\n",
    "                entry_idx = None\n",
    "            elif position == -1:  # close short\n",
    "                ret = (entry_spread - spread) * 100 - 2 * fee_stats\n",
    "                trades.append({'type': 'short', 'entry_idx': entry_idx, 'exit_idx': i, 'ret': ret})\n",
    "                position = 0\n",
    "                entry_spread = None\n",
    "                entry_idx = None\n",
    "            pending_exit = False\n",
    "\n",
    "        # Execute pending entry if any\n",
    "        if pending_entry is not None and position == 0:\n",
    "            if pending_entry == 'long':\n",
    "                position = 1\n",
    "                entry_spread = spread\n",
    "                entry_idx = i\n",
    "            elif pending_entry == 'short':\n",
    "                position = -1\n",
    "                entry_spread = spread\n",
    "                entry_idx = i\n",
    "            pending_entry = None\n",
    "\n",
    "        # Set pending exit/entry based on current signal\n",
    "        if position == 0:\n",
    "            if sig == 'buy':\n",
    "                pending_entry = 'long'\n",
    "            elif sig == 'sell':\n",
    "                pending_entry = 'short'\n",
    "        elif position == 1 and sig == 'sell':\n",
    "            pending_exit = True\n",
    "        elif position == -1 and sig == 'buy':\n",
    "            pending_exit = True\n",
    "\n",
    "    trades_df = pd.DataFrame(trades)\n",
    "\n",
    "    # Long trades\n",
    "    long_trades = trades_df[trades_df['type'] == 'long']\n",
    "    n_long = len(long_trades)\n",
    "    n_long_win = (long_trades['ret'] > 0).sum()\n",
    "    n_long_loss = (long_trades['ret'] <= 0).sum()\n",
    "    avg_long_return = long_trades['ret'].mean() if n_long > 0 else np.nan\n",
    "    pct_long_win = 100 * n_long_win / n_long if n_long > 0 else np.nan\n",
    "    pct_long_loss = 100 * n_long_loss / n_long if n_long > 0 else np.nan\n",
    "\n",
    "    # Short trades\n",
    "    short_trades = trades_df[trades_df['type'] == 'short']\n",
    "    n_short = len(short_trades)\n",
    "    n_short_win = (short_trades['ret'] > 0).sum()\n",
    "    n_short_loss = (short_trades['ret'] <= 0).sum()\n",
    "    avg_short_return = short_trades['ret'].mean() if n_short > 0 else np.nan\n",
    "    pct_short_win = 100 * n_short_win / n_short if n_short > 0 else np.nan\n",
    "    pct_short_loss = 100 * n_short_loss / n_short if n_short > 0 else np.nan\n",
    "\n",
    "    print(f\"\\nLong Trades: {n_long}, Avg Return: {avg_long_return:.2f}, % Correct: {pct_long_win:.2f}%, % Incorrect: {pct_long_loss:.2f}%\")\n",
    "    print(f\"Short Trades: {n_short}, Avg Return: {avg_short_return:.2f}, % Correct: {pct_short_win:.2f}%, % Incorrect: {pct_short_loss:.2f}%\")\n",
    "\n",
    "    # Return for inspection if needed\n",
    "    return datafix[['Close', 'spread', 'bb_upper', 'bb_lower', 'bb_middle', 'sma_20', 'sma_50', 'bb_signal', 'BB_Portfolio']]\n",
    "\n",
    "# --- Run everything ---\n",
    "datafix_summary = asyncio.run(main())\n",
    "datafix = datafix_summary\n"
   ]
  },
  {
   "cell_type": "code",
   "execution_count": null,
   "id": "baa46aaa",
   "metadata": {},
   "outputs": [
    {
     "name": "stdout",
     "output_type": "stream",
     "text": [
      "ADF Statistic: -3.341257\n",
      "p-value: 0.013132\n",
      "Critical Value (1%): -3.432\n",
      "Critical Value (5%): -2.862\n",
      "Critical Value (10%): -2.567\n",
      "Result: The spread is likely stationary (reject H0).\n"
     ]
    }
   ],
   "source": [
    "\n",
    "\n",
    "from statsmodels.tsa.stattools import adfuller\n",
    "\n",
    "# Assuming your DataFrame is named datafix and has a 'spread' column\n",
    "spread_series = datafix['spread'].dropna()\n",
    "\n",
    "# Run the ADF test\n",
    "adf_result = adfuller(spread_series)\n",
    "\n",
    "print('ADF Statistic: %f' % adf_result[0])\n",
    "print('p-value: %f' % adf_result[1])\n",
    "for key, value in adf_result[4].items():\n",
    "    print('Critical Value (%s): %.3f' % (key, value))\n",
    "\n",
    "if adf_result[1] < 0.05:\n",
    "    print(\"Result: The spread is likely stationary (reject H0).\")\n",
    "else:\n",
    "    print(\"Result: The spread is likely non-stationary (fail to reject H0).\")\n"
   ]
  },
  {
   "cell_type": "code",
   "execution_count": null,
   "id": "cd2b5a34",
   "metadata": {},
   "outputs": [
    {
     "name": "stderr",
     "output_type": "stream",
     "text": [
      "Error 321, reqId 4: Error validating request.-'bM' : cause - When specifying a unit, historical data request duration format is integer{SPACE}unit (S|D|W|M|Y)., contract: Option(conId=789544148, symbol='GOOG', lastTradeDateOrContractMonth='20250725', strike=190.0, right='P', multiplier='100', exchange='SMART', currency='USD', localSymbol='GOOG  250725P00190000', tradingClass='GOOG')\n"
     ]
    },
    {
     "name": "stdout",
     "output_type": "stream",
     "text": [
      "No new bars returned for GOOG 190 P.\n"
     ]
    },
    {
     "name": "stderr",
     "output_type": "stream",
     "text": [
      "Error 321, reqId 4: Error validating request.-'bM' : cause - When specifying a unit, historical data request duration format is integer{SPACE}unit (S|D|W|M|Y)., contract: Option(conId=789544013, symbol='GOOG', lastTradeDateOrContractMonth='20250725', strike=180.0, right='P', multiplier='100', exchange='SMART', currency='USD', localSymbol='GOOG  250725P00180000', tradingClass='GOOG')\n"
     ]
    },
    {
     "name": "stdout",
     "output_type": "stream",
     "text": [
      "No new bars returned for GOOG 180 P.\n",
      "No new bars found. Plotting last 30 bars of current datafix.\n"
     ]
    },
    {
     "data": {
      "application/vnd.plotly.v1+json": {
       "config": {
        "plotlyServerURL": "https://plot.ly"
       },
       "data": [
        {
         "line": {
          "color": "black",
          "width": 2
         },
         "mode": "lines",
         "name": "Spread",
         "type": "scatter",
         "x": [
          "2025-07-17T15:30:00",
          "2025-07-17T15:31:00",
          "2025-07-17T15:32:00",
          "2025-07-17T15:33:00",
          "2025-07-17T15:34:00",
          "2025-07-17T15:35:00",
          "2025-07-17T15:36:00",
          "2025-07-17T15:37:00",
          "2025-07-17T15:38:00",
          "2025-07-17T15:39:00",
          "2025-07-17T15:40:00",
          "2025-07-17T15:41:00",
          "2025-07-17T15:42:00",
          "2025-07-17T15:43:00",
          "2025-07-17T15:44:00",
          "2025-07-17T15:45:00",
          "2025-07-17T15:46:00",
          "2025-07-17T15:47:00",
          "2025-07-17T15:48:00",
          "2025-07-17T15:49:00",
          "2025-07-17T15:50:00",
          "2025-07-17T15:51:00",
          "2025-07-17T15:52:00",
          "2025-07-17T15:53:00",
          "2025-07-17T15:54:00",
          "2025-07-17T15:55:00",
          "2025-07-17T15:56:00",
          "2025-07-17T15:57:00",
          "2025-07-17T15:58:00",
          "2025-07-17T15:59:00"
         ],
         "y": [
          5.3,
          5.3,
          5.3,
          5.3,
          5.3,
          5.3,
          5.35,
          5.35,
          5.25,
          5.25,
          5.3,
          5.3,
          5.279999999999999,
          5.279999999999999,
          5.3,
          5.25,
          5.25,
          5.25,
          5.35,
          5.35,
          5.17,
          5.17,
          5.17,
          5.17,
          5.2,
          5.1,
          5.1,
          5.1,
          5.1,
          5.199999999999999
         ]
        },
        {
         "line": {
          "color": "green",
          "dash": "dash"
         },
         "mode": "lines",
         "name": "BB Upper",
         "type": "scatter",
         "x": [
          "2025-07-17T15:30:00",
          "2025-07-17T15:31:00",
          "2025-07-17T15:32:00",
          "2025-07-17T15:33:00",
          "2025-07-17T15:34:00",
          "2025-07-17T15:35:00",
          "2025-07-17T15:36:00",
          "2025-07-17T15:37:00",
          "2025-07-17T15:38:00",
          "2025-07-17T15:39:00",
          "2025-07-17T15:40:00",
          "2025-07-17T15:41:00",
          "2025-07-17T15:42:00",
          "2025-07-17T15:43:00",
          "2025-07-17T15:44:00",
          "2025-07-17T15:45:00",
          "2025-07-17T15:46:00",
          "2025-07-17T15:47:00",
          "2025-07-17T15:48:00",
          "2025-07-17T15:49:00",
          "2025-07-17T15:50:00",
          "2025-07-17T15:51:00",
          "2025-07-17T15:52:00",
          "2025-07-17T15:53:00",
          "2025-07-17T15:54:00",
          "2025-07-17T15:55:00",
          "2025-07-17T15:56:00",
          "2025-07-17T15:57:00",
          "2025-07-17T15:58:00",
          "2025-07-17T15:59:00"
         ],
         "y": [
          5.321256243221474,
          5.32311658345308,
          5.324735970715528,
          5.326116583453076,
          5.327256243221464,
          5.328148210965191,
          5.339509152410647,
          5.348541778556171,
          5.350507796710713,
          5.352245043838935,
          5.352478777357874,
          5.35250779671071,
          5.352073930564311,
          5.351603136588764,
          5.351220566140176,
          5.351741176825731,
          5.351087190933727,
          5.349429038505907,
          5.357595909926483,
          5.364926219832874,
          5.378183430135927,
          5.386093334475018,
          5.390689512209319,
          5.392869364107487,
          5.3907370368551595,
          5.399228420808637,
          5.394949940211875,
          5.386105437830831,
          5.388524851947335,
          5.385755985251273
         ]
        },
        {
         "line": {
          "color": "red",
          "dash": "dash"
         },
         "mode": "lines",
         "name": "BB Lower",
         "type": "scatter",
         "x": [
          "2025-07-17T15:30:00",
          "2025-07-17T15:31:00",
          "2025-07-17T15:32:00",
          "2025-07-17T15:33:00",
          "2025-07-17T15:34:00",
          "2025-07-17T15:35:00",
          "2025-07-17T15:36:00",
          "2025-07-17T15:37:00",
          "2025-07-17T15:38:00",
          "2025-07-17T15:39:00",
          "2025-07-17T15:40:00",
          "2025-07-17T15:41:00",
          "2025-07-17T15:42:00",
          "2025-07-17T15:43:00",
          "2025-07-17T15:44:00",
          "2025-07-17T15:45:00",
          "2025-07-17T15:46:00",
          "2025-07-17T15:47:00",
          "2025-07-17T15:48:00",
          "2025-07-17T15:49:00",
          "2025-07-17T15:50:00",
          "2025-07-17T15:51:00",
          "2025-07-17T15:52:00",
          "2025-07-17T15:53:00",
          "2025-07-17T15:54:00",
          "2025-07-17T15:55:00",
          "2025-07-17T15:56:00",
          "2025-07-17T15:57:00",
          "2025-07-17T15:58:00",
          "2025-07-17T15:59:00"
         ],
         "y": [
          5.242743756778524,
          5.243883416546918,
          5.245264029284472,
          5.2468834165469245,
          5.248743756778535,
          5.250851789034808,
          5.2474908475893525,
          5.24645822144383,
          5.242492203289287,
          5.238754956161064,
          5.241521222642126,
          5.2444922032892896,
          5.245926069435688,
          5.247396863411236,
          5.250779433859824,
          5.243258823174268,
          5.236912809066272,
          5.231570961494093,
          5.228404090073517,
          5.226073780167125,
          5.199816569864073,
          5.178906665524983,
          5.161310487790681,
          5.1461306358925105,
          5.13826296314484,
          5.109771579191364,
          5.089050059788125,
          5.072894562169169,
          5.055475148052664,
          5.053244014748725
         ]
        },
        {
         "line": {
          "color": "orange",
          "dash": "dot"
         },
         "mode": "lines",
         "name": "BB Middle",
         "type": "scatter",
         "x": [
          "2025-07-17T15:30:00",
          "2025-07-17T15:31:00",
          "2025-07-17T15:32:00",
          "2025-07-17T15:33:00",
          "2025-07-17T15:34:00",
          "2025-07-17T15:35:00",
          "2025-07-17T15:36:00",
          "2025-07-17T15:37:00",
          "2025-07-17T15:38:00",
          "2025-07-17T15:39:00",
          "2025-07-17T15:40:00",
          "2025-07-17T15:41:00",
          "2025-07-17T15:42:00",
          "2025-07-17T15:43:00",
          "2025-07-17T15:44:00",
          "2025-07-17T15:45:00",
          "2025-07-17T15:46:00",
          "2025-07-17T15:47:00",
          "2025-07-17T15:48:00",
          "2025-07-17T15:49:00",
          "2025-07-17T15:50:00",
          "2025-07-17T15:51:00",
          "2025-07-17T15:52:00",
          "2025-07-17T15:53:00",
          "2025-07-17T15:54:00",
          "2025-07-17T15:55:00",
          "2025-07-17T15:56:00",
          "2025-07-17T15:57:00",
          "2025-07-17T15:58:00",
          "2025-07-17T15:59:00"
         ],
         "y": [
          5.281999999999999,
          5.283499999999999,
          5.285,
          5.2865,
          5.287999999999999,
          5.289499999999999,
          5.2935,
          5.2975,
          5.2965,
          5.2955,
          5.297,
          5.2985,
          5.2989999999999995,
          5.2995,
          5.301,
          5.297499999999999,
          5.294,
          5.2905,
          5.293,
          5.2955,
          5.289,
          5.282500000000001,
          5.276,
          5.269499999999999,
          5.2645,
          5.2545,
          5.242,
          5.2295,
          5.2219999999999995,
          5.219499999999999
         ]
        },
        {
         "marker": {
          "color": "green",
          "line": {
           "color": "black",
           "width": 1.5
          },
          "size": 14,
          "symbol": "triangle-up"
         },
         "mode": "markers",
         "name": "Buy (on spread)",
         "type": "scatter",
         "x": [
          "2025-07-17T15:50:00"
         ],
         "y": [
          5.17
         ]
        },
        {
         "marker": {
          "color": "red",
          "line": {
           "color": "black",
           "width": 1.5
          },
          "size": 14,
          "symbol": "triangle-down"
         },
         "mode": "markers",
         "name": "Sell (on spread)",
         "type": "scatter",
         "x": [],
         "y": []
        }
       ],
       "layout": {
        "height": 500,
        "hovermode": "x unified",
        "legend": {
         "x": 0.01,
         "y": 0.99
        },
        "template": {
         "data": {
          "bar": [
           {
            "error_x": {
             "color": "#2a3f5f"
            },
            "error_y": {
             "color": "#2a3f5f"
            },
            "marker": {
             "line": {
              "color": "white",
              "width": 0.5
             },
             "pattern": {
              "fillmode": "overlay",
              "size": 10,
              "solidity": 0.2
             }
            },
            "type": "bar"
           }
          ],
          "barpolar": [
           {
            "marker": {
             "line": {
              "color": "white",
              "width": 0.5
             },
             "pattern": {
              "fillmode": "overlay",
              "size": 10,
              "solidity": 0.2
             }
            },
            "type": "barpolar"
           }
          ],
          "carpet": [
           {
            "aaxis": {
             "endlinecolor": "#2a3f5f",
             "gridcolor": "#C8D4E3",
             "linecolor": "#C8D4E3",
             "minorgridcolor": "#C8D4E3",
             "startlinecolor": "#2a3f5f"
            },
            "baxis": {
             "endlinecolor": "#2a3f5f",
             "gridcolor": "#C8D4E3",
             "linecolor": "#C8D4E3",
             "minorgridcolor": "#C8D4E3",
             "startlinecolor": "#2a3f5f"
            },
            "type": "carpet"
           }
          ],
          "choropleth": [
           {
            "colorbar": {
             "outlinewidth": 0,
             "ticks": ""
            },
            "type": "choropleth"
           }
          ],
          "contour": [
           {
            "colorbar": {
             "outlinewidth": 0,
             "ticks": ""
            },
            "colorscale": [
             [
              0,
              "#0d0887"
             ],
             [
              0.1111111111111111,
              "#46039f"
             ],
             [
              0.2222222222222222,
              "#7201a8"
             ],
             [
              0.3333333333333333,
              "#9c179e"
             ],
             [
              0.4444444444444444,
              "#bd3786"
             ],
             [
              0.5555555555555556,
              "#d8576b"
             ],
             [
              0.6666666666666666,
              "#ed7953"
             ],
             [
              0.7777777777777778,
              "#fb9f3a"
             ],
             [
              0.8888888888888888,
              "#fdca26"
             ],
             [
              1,
              "#f0f921"
             ]
            ],
            "type": "contour"
           }
          ],
          "contourcarpet": [
           {
            "colorbar": {
             "outlinewidth": 0,
             "ticks": ""
            },
            "type": "contourcarpet"
           }
          ],
          "heatmap": [
           {
            "colorbar": {
             "outlinewidth": 0,
             "ticks": ""
            },
            "colorscale": [
             [
              0,
              "#0d0887"
             ],
             [
              0.1111111111111111,
              "#46039f"
             ],
             [
              0.2222222222222222,
              "#7201a8"
             ],
             [
              0.3333333333333333,
              "#9c179e"
             ],
             [
              0.4444444444444444,
              "#bd3786"
             ],
             [
              0.5555555555555556,
              "#d8576b"
             ],
             [
              0.6666666666666666,
              "#ed7953"
             ],
             [
              0.7777777777777778,
              "#fb9f3a"
             ],
             [
              0.8888888888888888,
              "#fdca26"
             ],
             [
              1,
              "#f0f921"
             ]
            ],
            "type": "heatmap"
           }
          ],
          "heatmapgl": [
           {
            "colorbar": {
             "outlinewidth": 0,
             "ticks": ""
            },
            "colorscale": [
             [
              0,
              "#0d0887"
             ],
             [
              0.1111111111111111,
              "#46039f"
             ],
             [
              0.2222222222222222,
              "#7201a8"
             ],
             [
              0.3333333333333333,
              "#9c179e"
             ],
             [
              0.4444444444444444,
              "#bd3786"
             ],
             [
              0.5555555555555556,
              "#d8576b"
             ],
             [
              0.6666666666666666,
              "#ed7953"
             ],
             [
              0.7777777777777778,
              "#fb9f3a"
             ],
             [
              0.8888888888888888,
              "#fdca26"
             ],
             [
              1,
              "#f0f921"
             ]
            ],
            "type": "heatmapgl"
           }
          ],
          "histogram": [
           {
            "marker": {
             "pattern": {
              "fillmode": "overlay",
              "size": 10,
              "solidity": 0.2
             }
            },
            "type": "histogram"
           }
          ],
          "histogram2d": [
           {
            "colorbar": {
             "outlinewidth": 0,
             "ticks": ""
            },
            "colorscale": [
             [
              0,
              "#0d0887"
             ],
             [
              0.1111111111111111,
              "#46039f"
             ],
             [
              0.2222222222222222,
              "#7201a8"
             ],
             [
              0.3333333333333333,
              "#9c179e"
             ],
             [
              0.4444444444444444,
              "#bd3786"
             ],
             [
              0.5555555555555556,
              "#d8576b"
             ],
             [
              0.6666666666666666,
              "#ed7953"
             ],
             [
              0.7777777777777778,
              "#fb9f3a"
             ],
             [
              0.8888888888888888,
              "#fdca26"
             ],
             [
              1,
              "#f0f921"
             ]
            ],
            "type": "histogram2d"
           }
          ],
          "histogram2dcontour": [
           {
            "colorbar": {
             "outlinewidth": 0,
             "ticks": ""
            },
            "colorscale": [
             [
              0,
              "#0d0887"
             ],
             [
              0.1111111111111111,
              "#46039f"
             ],
             [
              0.2222222222222222,
              "#7201a8"
             ],
             [
              0.3333333333333333,
              "#9c179e"
             ],
             [
              0.4444444444444444,
              "#bd3786"
             ],
             [
              0.5555555555555556,
              "#d8576b"
             ],
             [
              0.6666666666666666,
              "#ed7953"
             ],
             [
              0.7777777777777778,
              "#fb9f3a"
             ],
             [
              0.8888888888888888,
              "#fdca26"
             ],
             [
              1,
              "#f0f921"
             ]
            ],
            "type": "histogram2dcontour"
           }
          ],
          "mesh3d": [
           {
            "colorbar": {
             "outlinewidth": 0,
             "ticks": ""
            },
            "type": "mesh3d"
           }
          ],
          "parcoords": [
           {
            "line": {
             "colorbar": {
              "outlinewidth": 0,
              "ticks": ""
             }
            },
            "type": "parcoords"
           }
          ],
          "pie": [
           {
            "automargin": true,
            "type": "pie"
           }
          ],
          "scatter": [
           {
            "fillpattern": {
             "fillmode": "overlay",
             "size": 10,
             "solidity": 0.2
            },
            "type": "scatter"
           }
          ],
          "scatter3d": [
           {
            "line": {
             "colorbar": {
              "outlinewidth": 0,
              "ticks": ""
             }
            },
            "marker": {
             "colorbar": {
              "outlinewidth": 0,
              "ticks": ""
             }
            },
            "type": "scatter3d"
           }
          ],
          "scattercarpet": [
           {
            "marker": {
             "colorbar": {
              "outlinewidth": 0,
              "ticks": ""
             }
            },
            "type": "scattercarpet"
           }
          ],
          "scattergeo": [
           {
            "marker": {
             "colorbar": {
              "outlinewidth": 0,
              "ticks": ""
             }
            },
            "type": "scattergeo"
           }
          ],
          "scattergl": [
           {
            "marker": {
             "colorbar": {
              "outlinewidth": 0,
              "ticks": ""
             }
            },
            "type": "scattergl"
           }
          ],
          "scattermapbox": [
           {
            "marker": {
             "colorbar": {
              "outlinewidth": 0,
              "ticks": ""
             }
            },
            "type": "scattermapbox"
           }
          ],
          "scatterpolar": [
           {
            "marker": {
             "colorbar": {
              "outlinewidth": 0,
              "ticks": ""
             }
            },
            "type": "scatterpolar"
           }
          ],
          "scatterpolargl": [
           {
            "marker": {
             "colorbar": {
              "outlinewidth": 0,
              "ticks": ""
             }
            },
            "type": "scatterpolargl"
           }
          ],
          "scatterternary": [
           {
            "marker": {
             "colorbar": {
              "outlinewidth": 0,
              "ticks": ""
             }
            },
            "type": "scatterternary"
           }
          ],
          "surface": [
           {
            "colorbar": {
             "outlinewidth": 0,
             "ticks": ""
            },
            "colorscale": [
             [
              0,
              "#0d0887"
             ],
             [
              0.1111111111111111,
              "#46039f"
             ],
             [
              0.2222222222222222,
              "#7201a8"
             ],
             [
              0.3333333333333333,
              "#9c179e"
             ],
             [
              0.4444444444444444,
              "#bd3786"
             ],
             [
              0.5555555555555556,
              "#d8576b"
             ],
             [
              0.6666666666666666,
              "#ed7953"
             ],
             [
              0.7777777777777778,
              "#fb9f3a"
             ],
             [
              0.8888888888888888,
              "#fdca26"
             ],
             [
              1,
              "#f0f921"
             ]
            ],
            "type": "surface"
           }
          ],
          "table": [
           {
            "cells": {
             "fill": {
              "color": "#EBF0F8"
             },
             "line": {
              "color": "white"
             }
            },
            "header": {
             "fill": {
              "color": "#C8D4E3"
             },
             "line": {
              "color": "white"
             }
            },
            "type": "table"
           }
          ]
         },
         "layout": {
          "annotationdefaults": {
           "arrowcolor": "#2a3f5f",
           "arrowhead": 0,
           "arrowwidth": 1
          },
          "autotypenumbers": "strict",
          "coloraxis": {
           "colorbar": {
            "outlinewidth": 0,
            "ticks": ""
           }
          },
          "colorscale": {
           "diverging": [
            [
             0,
             "#8e0152"
            ],
            [
             0.1,
             "#c51b7d"
            ],
            [
             0.2,
             "#de77ae"
            ],
            [
             0.3,
             "#f1b6da"
            ],
            [
             0.4,
             "#fde0ef"
            ],
            [
             0.5,
             "#f7f7f7"
            ],
            [
             0.6,
             "#e6f5d0"
            ],
            [
             0.7,
             "#b8e186"
            ],
            [
             0.8,
             "#7fbc41"
            ],
            [
             0.9,
             "#4d9221"
            ],
            [
             1,
             "#276419"
            ]
           ],
           "sequential": [
            [
             0,
             "#0d0887"
            ],
            [
             0.1111111111111111,
             "#46039f"
            ],
            [
             0.2222222222222222,
             "#7201a8"
            ],
            [
             0.3333333333333333,
             "#9c179e"
            ],
            [
             0.4444444444444444,
             "#bd3786"
            ],
            [
             0.5555555555555556,
             "#d8576b"
            ],
            [
             0.6666666666666666,
             "#ed7953"
            ],
            [
             0.7777777777777778,
             "#fb9f3a"
            ],
            [
             0.8888888888888888,
             "#fdca26"
            ],
            [
             1,
             "#f0f921"
            ]
           ],
           "sequentialminus": [
            [
             0,
             "#0d0887"
            ],
            [
             0.1111111111111111,
             "#46039f"
            ],
            [
             0.2222222222222222,
             "#7201a8"
            ],
            [
             0.3333333333333333,
             "#9c179e"
            ],
            [
             0.4444444444444444,
             "#bd3786"
            ],
            [
             0.5555555555555556,
             "#d8576b"
            ],
            [
             0.6666666666666666,
             "#ed7953"
            ],
            [
             0.7777777777777778,
             "#fb9f3a"
            ],
            [
             0.8888888888888888,
             "#fdca26"
            ],
            [
             1,
             "#f0f921"
            ]
           ]
          },
          "colorway": [
           "#636efa",
           "#EF553B",
           "#00cc96",
           "#ab63fa",
           "#FFA15A",
           "#19d3f3",
           "#FF6692",
           "#B6E880",
           "#FF97FF",
           "#FECB52"
          ],
          "font": {
           "color": "#2a3f5f"
          },
          "geo": {
           "bgcolor": "white",
           "lakecolor": "white",
           "landcolor": "white",
           "showlakes": true,
           "showland": true,
           "subunitcolor": "#C8D4E3"
          },
          "hoverlabel": {
           "align": "left"
          },
          "hovermode": "closest",
          "mapbox": {
           "style": "light"
          },
          "paper_bgcolor": "white",
          "plot_bgcolor": "white",
          "polar": {
           "angularaxis": {
            "gridcolor": "#EBF0F8",
            "linecolor": "#EBF0F8",
            "ticks": ""
           },
           "bgcolor": "white",
           "radialaxis": {
            "gridcolor": "#EBF0F8",
            "linecolor": "#EBF0F8",
            "ticks": ""
           }
          },
          "scene": {
           "xaxis": {
            "backgroundcolor": "white",
            "gridcolor": "#DFE8F3",
            "gridwidth": 2,
            "linecolor": "#EBF0F8",
            "showbackground": true,
            "ticks": "",
            "zerolinecolor": "#EBF0F8"
           },
           "yaxis": {
            "backgroundcolor": "white",
            "gridcolor": "#DFE8F3",
            "gridwidth": 2,
            "linecolor": "#EBF0F8",
            "showbackground": true,
            "ticks": "",
            "zerolinecolor": "#EBF0F8"
           },
           "zaxis": {
            "backgroundcolor": "white",
            "gridcolor": "#DFE8F3",
            "gridwidth": 2,
            "linecolor": "#EBF0F8",
            "showbackground": true,
            "ticks": "",
            "zerolinecolor": "#EBF0F8"
           }
          },
          "shapedefaults": {
           "line": {
            "color": "#2a3f5f"
           }
          },
          "ternary": {
           "aaxis": {
            "gridcolor": "#DFE8F3",
            "linecolor": "#A2B1C6",
            "ticks": ""
           },
           "baxis": {
            "gridcolor": "#DFE8F3",
            "linecolor": "#A2B1C6",
            "ticks": ""
           },
           "bgcolor": "white",
           "caxis": {
            "gridcolor": "#DFE8F3",
            "linecolor": "#A2B1C6",
            "ticks": ""
           }
          },
          "title": {
           "x": 0.05
          },
          "xaxis": {
           "automargin": true,
           "gridcolor": "#EBF0F8",
           "linecolor": "#EBF0F8",
           "ticks": "",
           "title": {
            "standoff": 15
           },
           "zerolinecolor": "#EBF0F8",
           "zerolinewidth": 2
          },
          "yaxis": {
           "automargin": true,
           "gridcolor": "#EBF0F8",
           "linecolor": "#EBF0F8",
           "ticks": "",
           "title": {
            "standoff": 15
           },
           "zerolinecolor": "#EBF0F8",
           "zerolinewidth": 2
          }
         }
        },
        "title": {
         "text": "Spread, Bollinger Bands, and Buy/Sell Signals (Last 30 Bars)"
        },
        "width": 1000,
        "xaxis": {
         "title": {
          "text": "Date"
         }
        },
        "yaxis": {
         "title": {
          "text": "Spread"
         }
        }
       }
      }
     },
     "metadata": {},
     "output_type": "display_data"
    }
   ],
   "source": [
    "import plotly.graph_objects as go\n",
    "\n",
    "# --- Function to fetch latest N bars for each option ---\n",
    "async def fetch_new_bars(symbol, lastTradeDateOrContractMonth, strike, right, n_bars=1):\n",
    "    ib = IB()\n",
    "    await ib.connectAsync('127.0.0.1', 7497, clientId=np.random.randint(1000, 10000))\n",
    "    option_contract = Option(\n",
    "        symbol=symbol,\n",
    "        lastTradeDateOrContractMonth=lastTradeDateOrContractMonth,\n",
    "        strike=strike,\n",
    "        right=right,\n",
    "        exchange='SMART',\n",
    "        currency='USD'\n",
    "    )\n",
    "    await ib.qualifyContractsAsync(option_contract)\n",
    "    bars = await ib.reqHistoricalDataAsync(\n",
    "        contract=option_contract,\n",
    "        endDateTime='',\n",
    "        durationStr=f'{n_bars} min',\n",
    "        barSizeSetting='1 min',\n",
    "        whatToShow='TRADES',\n",
    "        useRTH=True,\n",
    "        formatDate=1\n",
    "    )\n",
    "    ib.disconnect()\n",
    "    if not bars:\n",
    "        print(f\"No new bars returned for {symbol} {strike} {right}.\")\n",
    "        return pd.DataFrame()\n",
    "    df = util.df(bars)\n",
    "    df.set_index('date', inplace=True)\n",
    "    df.rename(columns={'close': 'Close'}, inplace=True)  # Ensure 'Close' exists\n",
    "    return df\n",
    "\n",
    "# --- Function to update BB strategy with new data ---\n",
    "def update_bb_strategy(datafix, datafix2, new_data1, new_data2, window=20, num_std=2):\n",
    "    # Append new data if not already present\n",
    "    datafix = pd.concat([datafix, new_data1[~new_data1.index.isin(datafix.index)]])\n",
    "    datafix2 = pd.concat([datafix2, new_data2[~new_data2.index.isin(datafix2.index)]])\n",
    "    datafix.index = datafix.index.tz_localize(None)\n",
    "    datafix2.index = datafix2.index.tz_localize(None)\n",
    "    # Update spread\n",
    "    datafix[\"spread\"] = datafix[\"Close\"] - datafix2[\"Close\"]\n",
    "    # Update Bollinger Bands (only recalc for last window+1 rows for speed)\n",
    "    recent = datafix.tail(window+1).copy()\n",
    "    recent['bb_middle'] = recent['spread'].rolling(window=window).mean()\n",
    "    recent['bb_std'] = recent['spread'].rolling(window=window).std()\n",
    "    recent['bb_upper'] = recent['bb_middle'] + num_std * recent['bb_std']\n",
    "    recent['bb_lower'] = recent['bb_middle'] - num_std * recent['bb_std']\n",
    "    recent['prev_spread'] = recent['spread'].shift(1)\n",
    "    recent['prev_bb_lower'] = recent['bb_lower'].shift(1)\n",
    "    recent['prev_bb_upper'] = recent['bb_upper'].shift(1)\n",
    "    buy_mask = (recent['prev_spread'] > recent['prev_bb_lower']) & (recent['spread'] < recent['bb_lower'])\n",
    "    sell_mask = (recent['prev_spread'] < recent['prev_bb_upper']) & (recent['spread'] > recent['bb_upper'])\n",
    "    recent['bb_signal'] = 'hold'\n",
    "    recent.loc[buy_mask, 'bb_signal'] = 'buy'\n",
    "    recent.loc[sell_mask, 'bb_signal'] = 'sell'\n",
    "    datafix.update(recent)\n",
    "    return datafix, datafix2\n",
    "\n",
    "# --- Function to continue backtest from previous state ---\n",
    "def continue_bb_backtest(datafix, initial_capital=1000, fee=1.50, multiplier=100):\n",
    "    last_idx = datafix['BB_Portfolio'].last_valid_index()\n",
    "    if last_idx is not None:\n",
    "        capital = datafix.at[last_idx, 'BB_Portfolio']\n",
    "        position = datafix.at[last_idx, 'BB_Position']\n",
    "        if position == 1:\n",
    "            entry_spread = datafix.loc[:last_idx][datafix['bb_signal'] == 'buy']['spread'].iloc[-1]\n",
    "        else:\n",
    "            entry_spread = None\n",
    "        new_rows = datafix.loc[last_idx:].iloc[1:]\n",
    "    else:\n",
    "        capital = initial_capital\n",
    "        position = 0\n",
    "        entry_spread = None\n",
    "        new_rows = datafix\n",
    "    portfolio = []\n",
    "    positions = []\n",
    "    for idx, row in new_rows.iterrows():\n",
    "        sig = row['bb_signal']\n",
    "        spread = row['spread']\n",
    "        if sig == 'buy' and position == 0:\n",
    "            position = 1\n",
    "            entry_spread = spread\n",
    "            capital -= fee\n",
    "        elif sig == 'sell' and position == 1:\n",
    "            pnl = (spread - entry_spread) * multiplier\n",
    "            capital += pnl\n",
    "            capital -= fee\n",
    "            position = 0\n",
    "            entry_spread = None\n",
    "        portfolio.append(capital)\n",
    "        positions.append(position)\n",
    "        datafix.at[idx, 'BB_Portfolio'] = capital\n",
    "        datafix.at[idx, 'BB_Position'] = position\n",
    "    return datafix\n",
    "\n",
    "# --- Example usage: update with new data and plot ---\n",
    "# Fetch new bars (example: 1 new bar)\n",
    "new_data1 = await fetch_new_bars(symbol1, lastTradeDateOrContractMonth1, strike1, right1, n_bars=1)\n",
    "new_data2 = await fetch_new_bars(symbol2, lastTradeDateOrContractMonth2, strike2, right2, n_bars=1)\n",
    "\n",
    "# Update BB strategy DataFrame and backtest if we have new data\n",
    "if not new_data1.empty and not new_data2.empty:\n",
    "    datafix, datafix2 = update_bb_strategy(datafix, datafix2, new_data1, new_data2, window=20, num_std=2)\n",
    "    datafix = continue_bb_backtest(datafix, initial_capital=1000, fee=1.50, multiplier=100)\n",
    "    print(\"New bars found. Plotting latest data.\")\n",
    "else:\n",
    "    print(\"No new bars found. Plotting last 30 bars of current datafix.\")\n",
    "\n",
    "# Always plot the last 30 bars (including new ones if present)\n",
    "plot_df = datafix.tail(30)\n",
    "\n",
    "fig = go.Figure()\n",
    "fig.add_trace(go.Scatter(\n",
    "    x=plot_df.index, y=plot_df[\"spread\"],\n",
    "    mode='lines', name='Spread', line=dict(color='black', width=2)\n",
    "))\n",
    "fig.add_trace(go.Scatter(\n",
    "    x=plot_df.index, y=plot_df['bb_upper'],\n",
    "    mode='lines', name='BB Upper', line=dict(color='green', dash='dash')\n",
    "))\n",
    "fig.add_trace(go.Scatter(\n",
    "    x=plot_df.index, y=plot_df['bb_lower'],\n",
    "    mode='lines', name='BB Lower', line=dict(color='red', dash='dash')\n",
    "))\n",
    "fig.add_trace(go.Scatter(\n",
    "    x=plot_df.index, y=plot_df['bb_middle'],\n",
    "    mode='lines', name='BB Middle', line=dict(color='orange', dash='dot')\n",
    "))\n",
    "buy_signals = plot_df[plot_df[\"bb_signal\"] == \"buy\"]\n",
    "fig.add_trace(go.Scatter(\n",
    "    x=buy_signals.index, y=buy_signals[\"spread\"],\n",
    "    mode='markers', name='Buy (on spread)',\n",
    "    marker=dict(symbol='triangle-up', color='green', size=14, line=dict(color='black', width=1.5))\n",
    "))\n",
    "sell_signals = plot_df[plot_df[\"bb_signal\"] == \"sell\"]\n",
    "fig.add_trace(go.Scatter(\n",
    "    x=sell_signals.index, y=sell_signals[\"spread\"],\n",
    "    mode='markers', name='Sell (on spread)',\n",
    "    marker=dict(symbol='triangle-down', color='red', size=14, line=dict(color='black', width=1.5))\n",
    "))\n",
    "fig.update_layout(\n",
    "    title=\"Spread, Bollinger Bands, and Buy/Sell Signals (Last 30 Bars)\",\n",
    "    xaxis_title=\"Date\",\n",
    "    yaxis_title=\"Spread\",\n",
    "    legend=dict(x=0.01, y=0.99),\n",
    "    hovermode='x unified',\n",
    "    template='plotly_white',\n",
    "    width=1000,\n",
    "    height=500\n",
    ")\n",
    "fig.show()\n"
   ]
  },
  {
   "cell_type": "code",
   "execution_count": null,
   "id": "faedd21a",
   "metadata": {},
   "outputs": [
    {
     "data": {
      "image/png": "[encoded data removed]",
      "text/plain": [
       "<Figure size 1400x700 with 2 Axes>"
      ]
     },
     "metadata": {},
     "output_type": "display_data"
    }
   ],
   "source": [
    "import matplotlib.pyplot as plt\n",
    "\n",
    "fig, ax1 = plt.subplots(figsize=(14, 7))\n",
    "\n",
    "# Plot Option 1 Close (Option 1)\n",
    "ax1.plot(datafix.index, datafix['Close'], label='Option 1 Close', color='blue')\n",
    "# Plot Option 2 Close (Option 2 = Option 1 Close - Spread)\n",
    "ax1.plot(datafix.index, datafix['Close'] - datafix['spread'], label='Option 2 Close', color='orange')\n",
    "# Plot Spread\n",
    "ax1.plot(datafix.index, datafix['spread'], label='Spread', color='green')\n",
    "ax1.set_xlabel('Date')\n",
    "ax1.set_ylabel('Price')\n",
    "ax1.grid(True, linestyle='--', alpha=0.5)\n",
    "\n",
    "# Create a second y-axis for portfolio returns (cumulative P&L)\n",
    "ax2 = ax1.twinx()\n",
    "ax2.plot(datafix.index, datafix['BB_Portfolio'], label='Portfolio Value', color='black')\n",
    "ax2.set_ylabel('Portfolio Value ($)', color='black')\n",
    "ax2.tick_params(axis='y', labelcolor='black')\n",
    "\n",
    "# Combine legends from both axes\n",
    "lines_1, labels_1 = ax1.get_legend_handles_labels()\n",
    "lines_2, labels_2 = ax2.get_legend_handles_labels()\n",
    "ax1.legend(lines_1 + lines_2, labels_1 + labels_2, loc='upper left')\n",
    "\n",
    "plt.title('Option Close Prices, Spread, and Portfolio Value')\n",
    "plt.tight_layout()\n",
    "plt.show()\n"
   ]
  }
 ],
 "metadata": {
  "kernelspec": {
   "display_name": "base",
   "language": "python",
   "name": "python3"
  },
  "language_info": {
   "codemirror_mode": {
    "name": "ipython",
    "version": 3
   },
   "file_extension": ".py",
   "mimetype": "text/x-python",
   "name": "python",
   "nbconvert_exporter": "python",
   "pygments_lexer": "ipython3",
   "version": "3.12.7"
  }
 },
 "nbformat": 4,
 "nbformat_minor": 5
}

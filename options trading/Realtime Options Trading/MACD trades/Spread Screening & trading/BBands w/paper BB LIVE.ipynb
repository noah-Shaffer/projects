{
 "cells": [
  {
   "cell_type": "markdown",
   "id": "f9b35660",
   "metadata": {},
   "source": [
    "add volume thresholds and only trade when the underlying isn't going exponential against the spread positions Also only run a naive backtest"
   ]
  },
  {
   "cell_type": "code",
   "execution_count": null,
   "id": "d4434853",
   "metadata": {},
   "outputs": [],
   "source": [
    "import nest_asyncio\n",
    "nest_asyncio.apply()\n",
    "\n",
    "import asyncio\n",
    "from ib_insync import *\n",
    "import pandas as pd\n",
    "import numpy as np\n",
    "import plotly.graph_objects as go\n",
    "import matplotlib.pyplot as plt\n",
    "\n",
    "# --- PARAMETERS ---\n",
    "durationStr = '7 D'\n",
    "barSizeSetting = '5 mins'\n",
    "symbol1 = 'GOOG'\n",
    "lastTradeDateOrContractMonth1 = '20250725'\n",
    "strike1 = 180\n",
    "right1 = 'P'\n",
    "symbol2 = 'GOOG'\n",
    "lastTradeDateOrContractMonth2 = '20250725'\n",
    "strike2 = 160\n",
    "right2 = 'P'\n",
    "\n",
    "# --- GLOBALS ---\n",
    "window = 20\n",
    "num_std = 2\n",
    "fee = 3\n",
    "initial_capital = 1000\n",
    "\n",
    "# --- LIVE DATA FUNCTION ---\n",
    "def run_live_spread():\n",
    "    ib = IB()\n",
    "    ib.connect('127.0.0.1', 7497, clientId=1234)\n",
    "\n",
    "    # Define both option contracts\n",
    "    c1 = Option(symbol1, lastTradeDateOrContractMonth1, strike1, right1, 'SMART', 'USD')\n",
    "    c2 = Option(symbol2, lastTradeDateOrContractMonth2, strike2, right2, 'SMART', 'USD')\n",
    "    ib.qualifyContracts(c1, c2)\n",
    "\n",
    "    # Request live-updating bars\n",
    "    bars1 = ib.reqHistoricalData(\n",
    "        c1, endDateTime='', durationStr=durationStr, barSizeSetting=barSizeSetting,\n",
    "        whatToShow='TRADES', useRTH=True, formatDate=1, keepUpToDate=True)\n",
    "    bars2 = ib.reqHistoricalData(\n",
    "        c2, endDateTime='', durationStr=durationStr, barSizeSetting=barSizeSetting,\n",
    "        whatToShow='TRADES', useRTH=True, formatDate=1, keepUpToDate=True)\n",
    "\n",
    "    # DataFrame to store results\n",
    "    df = pd.DataFrame()\n",
    "\n",
    "    # State for backtest\n",
    "    capital = initial_capital\n",
    "    position = 0\n",
    "    entry_spread = None\n",
    "    pending_entry = None\n",
    "    pending_exit = False\n",
    "    portfolio = []\n",
    "    positions = []\n",
    "\n",
    "    # --- Event handler ---\n",
    "    def on_bar_update(bars, has_new_bar):\n",
    "        # Sync bars by timestamp\n",
    "        df1 = util.df(bars1).set_index('date').rename(columns={'close': 'Close1'})\n",
    "        df2 = util.df(bars2).set_index('date').rename(columns={'close': 'Close2'})\n",
    "        merged = df1[['Close1']].join(df2[['Close2']], how='inner')\n",
    "        merged['spread'] = merged['Close1'] - merged['Close2']\n",
    "\n",
    "        # Bollinger Bands\n",
    "        merged['bb_middle'] = merged['spread'].rolling(window=window).mean()\n",
    "        merged['bb_std'] = merged['spread'].rolling(window=window).std()\n",
    "        merged['bb_upper'] = merged['bb_middle'] + num_std * merged['bb_std']\n",
    "        merged['bb_lower'] = merged['bb_middle'] - num_std * merged['bb_std']\n",
    "\n",
    "        # Signals\n",
    "        merged['prev_spread'] = merged['spread'].shift(1)\n",
    "        merged['prev_bb_lower'] = merged['bb_lower'].shift(1)\n",
    "        merged['prev_bb_upper'] = merged['bb_upper'].shift(1)\n",
    "        buy_mask = (merged['prev_spread'] > merged['prev_bb_lower']) & (merged['spread'] < merged['bb_lower'])\n",
    "        sell_mask = (merged['prev_spread'] < merged['prev_bb_upper']) & (merged['spread'] > merged['bb_upper'])\n",
    "        merged['bb_signal'] = 'hold'\n",
    "        merged.loc[buy_mask, 'bb_signal'] = 'buy'\n",
    "        merged.loc[sell_mask, 'bb_signal'] = 'sell'\n",
    "\n",
    "        # Backtest logic (single position, delayed entry/exit)\n",
    "        nonlocal capital, position, entry_spread, pending_entry, pending_exit, portfolio, positions\n",
    "        portfolio = []\n",
    "        positions = []\n",
    "        position = 0\n",
    "        entry_spread = None\n",
    "        pending_entry = None\n",
    "        pending_exit = False\n",
    "        for i, row in merged.iterrows():\n",
    "            sig = row['bb_signal']\n",
    "            spread = row['spread']\n",
    "\n",
    "            if pending_exit:\n",
    "                if position == 1:\n",
    "                    pnl = (spread - entry_spread) * 100\n",
    "                    capital += pnl - fee\n",
    "                elif position == -1:\n",
    "                    pnl = (entry_spread - spread) * 100\n",
    "                    capital += pnl - fee\n",
    "                position = 0\n",
    "                entry_spread = None\n",
    "                pending_exit = False\n",
    "\n",
    "            if pending_entry is not None and position == 0:\n",
    "                if pending_entry == 'long':\n",
    "                    position = 1\n",
    "                    entry_spread = spread\n",
    "                    capital -= fee\n",
    "                elif pending_entry == 'short':\n",
    "                    position = -1\n",
    "                    entry_spread = spread\n",
    "                    capital -= fee\n",
    "                pending_entry = None\n",
    "\n",
    "            if position == 0:\n",
    "                if sig == 'buy':\n",
    "                    pending_entry = 'long'\n",
    "                elif sig == 'sell':\n",
    "                    pending_entry = 'short'\n",
    "            elif position == 1 and sig == 'sell':\n",
    "                pending_exit = True\n",
    "            elif position == -1 and sig == 'buy':\n",
    "                pending_exit = True\n",
    "\n",
    "            portfolio.append(capital)\n",
    "            positions.append(position)\n",
    "\n",
    "        merged['BB_Position'] = positions\n",
    "        merged['BB_Portfolio'] = portfolio\n",
    "\n",
    "        # Print latest signal and portfolio value\n",
    "        if len(merged) > 0:\n",
    "            print(f\"Latest: {merged.index[-1]}, Spread: {merged['spread'].iloc[-1]:.2f}, \"\n",
    "                  f\"Signal: {merged['bb_signal'].iloc[-1]}, Portfolio: {merged['BB_Portfolio'].iloc[-1]:.2f}\")\n",
    "\n",
    "        # Optional: update plotly/matplotlib plot here for live charting\n",
    "\n",
    "    # Attach event handler\n",
    "    bars1.updateEvent += on_bar_update\n",
    "    bars2.updateEvent += on_bar_update\n",
    "\n",
    "    print(\"Live spread monitoring started. Press Ctrl+C to exit.\")\n",
    "    try:\n",
    "        ib.run()\n",
    "    except KeyboardInterrupt:\n",
    "        print(\"Stopped by user.\")\n",
    "    finally:\n",
    "        ib.disconnect()\n",
    "\n",
    "# --- Run everything ---\n",
    "run_live_spread()\n"
   ]
  },
  {
   "cell_type": "code",
   "execution_count": null,
   "id": "baa46aaa",
   "metadata": {},
   "outputs": [
    {
     "ename": "NameError",
     "evalue": "name 'datafix' is not defined",
     "output_type": "error",
     "traceback": [
      "\u001b[0;31m---------------------------------------------------------------------------\u001b[0m",
      "\u001b[0;31mNameError\u001b[0m                                 Traceback (most recent call last)",
      "Cell \u001b[0;32mIn[2], line 4\u001b[0m\n\u001b[1;32m      1\u001b[0m \u001b[38;5;28;01mfrom\u001b[39;00m \u001b[38;5;21;01mstatsmodels\u001b[39;00m\u001b[38;5;21;01m.\u001b[39;00m\u001b[38;5;21;01mtsa\u001b[39;00m\u001b[38;5;21;01m.\u001b[39;00m\u001b[38;5;21;01mstattools\u001b[39;00m \u001b[38;5;28;01mimport\u001b[39;00m adfuller\n\u001b[1;32m      3\u001b[0m \u001b[38;5;66;03m# Assuming your DataFrame is named datafix and has a 'spread' column\u001b[39;00m\n\u001b[0;32m----> 4\u001b[0m spread_series \u001b[38;5;241m=\u001b[39m datafix[\u001b[38;5;124m'\u001b[39m\u001b[38;5;124mspread\u001b[39m\u001b[38;5;124m'\u001b[39m]\u001b[38;5;241m.\u001b[39mdropna()\n\u001b[1;32m      6\u001b[0m \u001b[38;5;66;03m# Run the ADF test\u001b[39;00m\n\u001b[1;32m      7\u001b[0m adf_result \u001b[38;5;241m=\u001b[39m adfuller(spread_series)\n",
      "\u001b[0;31mNameError\u001b[0m: name 'datafix' is not defined"
     ]
    }
   ],
   "source": [
    "\n",
    "\n",
    "from statsmodels.tsa.stattools import adfuller\n",
    "\n",
    "# Assuming your DataFrame is named datafix and has a 'spread' column\n",
    "spread_series = datafix['spread'].dropna()\n",
    "\n",
    "# Run the ADF test\n",
    "adf_result = adfuller(spread_series)\n",
    "\n",
    "print('ADF Statistic: %f' % adf_result[0])\n",
    "print('p-value: %f' % adf_result[1])\n",
    "for key, value in adf_result[4].items():\n",
    "    print('Critical Value (%s): %.3f' % (key, value))\n",
    "\n",
    "if adf_result[1] < 0.05:\n",
    "    print(\"Result: The spread is likely stationary (reject H0).\")\n",
    "else:\n",
    "    print(\"Result: The spread is likely non-stationary (fail to reject H0).\")\n"
   ]
  },
  {
   "cell_type": "code",
   "execution_count": null,
   "id": "cd2b5a34",
   "metadata": {},
   "outputs": [
    {
     "name": "stderr",
     "output_type": "stream",
     "text": [
      "Error 321, reqId 4: Error validating request.-'bM' : cause - When specifying a unit, historical data request duration format is integer{SPACE}unit (S|D|W|M|Y)., contract: Option(conId=789544013, symbol='GOOG', lastTradeDateOrContractMonth='20250725', strike=180.0, right='P', multiplier='100', exchange='SMART', currency='USD', localSymbol='GOOG  250725P00180000', tradingClass='GOOG')\n"
     ]
    },
    {
     "name": "stdout",
     "output_type": "stream",
     "text": [
      "No new bars returned for GOOG 180 P.\n"
     ]
    },
    {
     "name": "stderr",
     "output_type": "stream",
     "text": [
      "Error 321, reqId 4: Error validating request.-'bM' : cause - When specifying a unit, historical data request duration format is integer{SPACE}unit (S|D|W|M|Y)., contract: Option(conId=789543774, symbol='GOOG', lastTradeDateOrContractMonth='20250725', strike=160.0, right='P', multiplier='100', exchange='SMART', currency='USD', localSymbol='GOOG  250725P00160000', tradingClass='GOOG')\n"
     ]
    },
    {
     "name": "stdout",
     "output_type": "stream",
     "text": [
      "No new bars returned for GOOG 160 P.\n",
      "No new bars found. Plotting last 30 bars of current datafix.\n"
     ]
    },
    {
     "data": {
      "application/vnd.plotly.v1+json": {
       "config": {
        "plotlyServerURL": "https://plot.ly"
       },
       "data": [
        {
         "line": {
          "color": "black",
          "width": 2
         },
         "mode": "lines",
         "name": "Spread",
         "type": "scatter",
         "x": [
          "2025-07-14T13:30:00",
          "2025-07-14T13:35:00",
          "2025-07-14T13:40:00",
          "2025-07-14T13:45:00",
          "2025-07-14T13:50:00",
          "2025-07-14T13:55:00",
          "2025-07-14T14:00:00",
          "2025-07-14T14:05:00",
          "2025-07-14T14:10:00",
          "2025-07-14T14:15:00",
          "2025-07-14T14:20:00",
          "2025-07-14T14:25:00",
          "2025-07-14T14:30:00",
          "2025-07-14T14:35:00",
          "2025-07-14T14:40:00",
          "2025-07-14T14:45:00",
          "2025-07-14T14:50:00",
          "2025-07-14T14:55:00",
          "2025-07-14T15:00:00",
          "2025-07-14T15:05:00",
          "2025-07-14T15:10:00",
          "2025-07-14T15:15:00",
          "2025-07-14T15:20:00",
          "2025-07-14T15:25:00",
          "2025-07-14T15:30:00",
          "2025-07-14T15:35:00",
          "2025-07-14T15:40:00",
          "2025-07-14T15:45:00",
          "2025-07-14T15:50:00",
          "2025-07-14T15:55:00"
         ],
         "y": [
          4.05,
          4.1499999999999995,
          4.12,
          4.12,
          4.13,
          4.13,
          4.18,
          4.18,
          3.9299999999999997,
          3.9299999999999997,
          3.9299999999999997,
          3.94,
          3.94,
          3.9099999999999997,
          3.9899999999999998,
          3.99,
          3.99,
          4.08,
          4.18,
          4.18,
          4.11,
          4.12,
          4.12,
          4.17,
          4.17,
          4.07,
          4.07,
          4.07,
          4.1000000000000005,
          4
         ]
        },
        {
         "line": {
          "color": "green",
          "dash": "dash"
         },
         "mode": "lines",
         "name": "BB Upper",
         "type": "scatter",
         "x": [
          "2025-07-14T13:30:00",
          "2025-07-14T13:35:00",
          "2025-07-14T13:40:00",
          "2025-07-14T13:45:00",
          "2025-07-14T13:50:00",
          "2025-07-14T13:55:00",
          "2025-07-14T14:00:00",
          "2025-07-14T14:05:00",
          "2025-07-14T14:10:00",
          "2025-07-14T14:15:00",
          "2025-07-14T14:20:00",
          "2025-07-14T14:25:00",
          "2025-07-14T14:30:00",
          "2025-07-14T14:35:00",
          "2025-07-14T14:40:00",
          "2025-07-14T14:45:00",
          "2025-07-14T14:50:00",
          "2025-07-14T14:55:00",
          "2025-07-14T15:00:00",
          "2025-07-14T15:05:00",
          "2025-07-14T15:10:00",
          "2025-07-14T15:15:00",
          "2025-07-14T15:20:00",
          "2025-07-14T15:25:00",
          "2025-07-14T15:30:00",
          "2025-07-14T15:35:00",
          "2025-07-14T15:40:00",
          "2025-07-14T15:45:00",
          "2025-07-14T15:50:00",
          "2025-07-14T15:55:00"
         ],
         "y": [
          4.712586198356815,
          4.68871854986115,
          4.656800778764857,
          4.620502459875606,
          4.579303349077458,
          4.532373665088099,
          4.480305640009341,
          4.419398760685376,
          4.377597004418149,
          4.339454946637523,
          4.290249284726397,
          4.260002148217513,
          4.2311443192903635,
          4.222570162207107,
          4.222483720382509,
          4.2223897253146765,
          4.222288103967073,
          4.224685539962349,
          4.2415720354581685,
          4.257066293464176,
          4.261665493055784,
          4.257692234305601,
          4.257692234305601,
          4.264778659494001,
          4.270485600306861,
          4.264907685981166,
          4.251259193972633,
          4.236604686374216,
          4.238710584117466,
          4.234946512701579
         ]
        },
        {
         "line": {
          "color": "red",
          "dash": "dash"
         },
         "mode": "lines",
         "name": "BB Lower",
         "type": "scatter",
         "x": [
          "2025-07-14T13:30:00",
          "2025-07-14T13:35:00",
          "2025-07-14T13:40:00",
          "2025-07-14T13:45:00",
          "2025-07-14T13:50:00",
          "2025-07-14T13:55:00",
          "2025-07-14T14:00:00",
          "2025-07-14T14:05:00",
          "2025-07-14T14:10:00",
          "2025-07-14T14:15:00",
          "2025-07-14T14:20:00",
          "2025-07-14T14:25:00",
          "2025-07-14T14:30:00",
          "2025-07-14T14:35:00",
          "2025-07-14T14:40:00",
          "2025-07-14T14:45:00",
          "2025-07-14T14:50:00",
          "2025-07-14T14:55:00",
          "2025-07-14T15:00:00",
          "2025-07-14T15:05:00",
          "2025-07-14T15:10:00",
          "2025-07-14T15:15:00",
          "2025-07-14T15:20:00",
          "2025-07-14T15:25:00",
          "2025-07-14T15:30:00",
          "2025-07-14T15:35:00",
          "2025-07-14T15:40:00",
          "2025-07-14T15:45:00",
          "2025-07-14T15:50:00",
          "2025-07-14T15:55:00"
         ],
         "y": [
          3.842413801643185,
          3.83328145013885,
          3.826199221235144,
          3.823497540124393,
          3.8266966509225404,
          3.8356263349119017,
          3.854694359990658,
          3.8826012393146234,
          3.8744029955818498,
          3.867545053362478,
          3.8717507152736017,
          3.867997851782486,
          3.865855680709636,
          3.850429837792894,
          3.851516279617491,
          3.852610274685323,
          3.853711896032927,
          3.8543144600376498,
          3.8504279645418307,
          3.8479337065358243,
          3.8493345069442175,
          3.850307765694399,
          3.850307765694399,
          3.8482213405059986,
          3.84651439969314,
          3.846092314018834,
          3.848740806027367,
          3.852395313625785,
          3.8672894158825346,
          3.8780534872984203
         ]
        },
        {
         "line": {
          "color": "orange",
          "dash": "dot"
         },
         "mode": "lines",
         "name": "BB Middle",
         "type": "scatter",
         "x": [
          "2025-07-14T13:30:00",
          "2025-07-14T13:35:00",
          "2025-07-14T13:40:00",
          "2025-07-14T13:45:00",
          "2025-07-14T13:50:00",
          "2025-07-14T13:55:00",
          "2025-07-14T14:00:00",
          "2025-07-14T14:05:00",
          "2025-07-14T14:10:00",
          "2025-07-14T14:15:00",
          "2025-07-14T14:20:00",
          "2025-07-14T14:25:00",
          "2025-07-14T14:30:00",
          "2025-07-14T14:35:00",
          "2025-07-14T14:40:00",
          "2025-07-14T14:45:00",
          "2025-07-14T14:50:00",
          "2025-07-14T14:55:00",
          "2025-07-14T15:00:00",
          "2025-07-14T15:05:00",
          "2025-07-14T15:10:00",
          "2025-07-14T15:15:00",
          "2025-07-14T15:20:00",
          "2025-07-14T15:25:00",
          "2025-07-14T15:30:00",
          "2025-07-14T15:35:00",
          "2025-07-14T15:40:00",
          "2025-07-14T15:45:00",
          "2025-07-14T15:50:00",
          "2025-07-14T15:55:00"
         ],
         "y": [
          4.2775,
          4.261,
          4.2415,
          4.2219999999999995,
          4.202999999999999,
          4.184,
          4.1674999999999995,
          4.151,
          4.1259999999999994,
          4.1035,
          4.0809999999999995,
          4.063999999999999,
          4.0485,
          4.0365,
          4.037,
          4.0375,
          4.038,
          4.039499999999999,
          4.045999999999999,
          4.0525,
          4.0555,
          4.054,
          4.054,
          4.0565,
          4.0585,
          4.0555,
          4.05,
          4.0445,
          4.053,
          4.0565
         ]
        },
        {
         "marker": {
          "color": "green",
          "line": {
           "color": "black",
           "width": 1.5
          },
          "size": 14,
          "symbol": "triangle-up"
         },
         "mode": "markers",
         "name": "Buy (on spread)",
         "type": "scatter",
         "x": [],
         "y": []
        },
        {
         "marker": {
          "color": "red",
          "line": {
           "color": "black",
           "width": 1.5
          },
          "size": 14,
          "symbol": "triangle-down"
         },
         "mode": "markers",
         "name": "Sell (on spread)",
         "type": "scatter",
         "x": [],
         "y": []
        }
       ],
       "layout": {
        "height": 500,
        "hovermode": "x unified",
        "legend": {
         "x": 0.01,
         "y": 0.99
        },
        "template": {
         "data": {
          "bar": [
           {
            "error_x": {
             "color": "#2a3f5f"
            },
            "error_y": {
             "color": "#2a3f5f"
            },
            "marker": {
             "line": {
              "color": "white",
              "width": 0.5
             },
             "pattern": {
              "fillmode": "overlay",
              "size": 10,
              "solidity": 0.2
             }
            },
            "type": "bar"
           }
          ],
          "barpolar": [
           {
            "marker": {
             "line": {
              "color": "white",
              "width": 0.5
             },
             "pattern": {
              "fillmode": "overlay",
              "size": 10,
              "solidity": 0.2
             }
            },
            "type": "barpolar"
           }
          ],
          "carpet": [
           {
            "aaxis": {
             "endlinecolor": "#2a3f5f",
             "gridcolor": "#C8D4E3",
             "linecolor": "#C8D4E3",
             "minorgridcolor": "#C8D4E3",
             "startlinecolor": "#2a3f5f"
            },
            "baxis": {
             "endlinecolor": "#2a3f5f",
             "gridcolor": "#C8D4E3",
             "linecolor": "#C8D4E3",
             "minorgridcolor": "#C8D4E3",
             "startlinecolor": "#2a3f5f"
            },
            "type": "carpet"
           }
          ],
          "choropleth": [
           {
            "colorbar": {
             "outlinewidth": 0,
             "ticks": ""
            },
            "type": "choropleth"
           }
          ],
          "contour": [
           {
            "colorbar": {
             "outlinewidth": 0,
             "ticks": ""
            },
            "colorscale": [
             [
              0,
              "#0d0887"
             ],
             [
              0.1111111111111111,
              "#46039f"
             ],
             [
              0.2222222222222222,
              "#7201a8"
             ],
             [
              0.3333333333333333,
              "#9c179e"
             ],
             [
              0.4444444444444444,
              "#bd3786"
             ],
             [
              0.5555555555555556,
              "#d8576b"
             ],
             [
              0.6666666666666666,
              "#ed7953"
             ],
             [
              0.7777777777777778,
              "#fb9f3a"
             ],
             [
              0.8888888888888888,
              "#fdca26"
             ],
             [
              1,
              "#f0f921"
             ]
            ],
            "type": "contour"
           }
          ],
          "contourcarpet": [
           {
            "colorbar": {
             "outlinewidth": 0,
             "ticks": ""
            },
            "type": "contourcarpet"
           }
          ],
          "heatmap": [
           {
            "colorbar": {
             "outlinewidth": 0,
             "ticks": ""
            },
            "colorscale": [
             [
              0,
              "#0d0887"
             ],
             [
              0.1111111111111111,
              "#46039f"
             ],
             [
              0.2222222222222222,
              "#7201a8"
             ],
             [
              0.3333333333333333,
              "#9c179e"
             ],
             [
              0.4444444444444444,
              "#bd3786"
             ],
             [
              0.5555555555555556,
              "#d8576b"
             ],
             [
              0.6666666666666666,
              "#ed7953"
             ],
             [
              0.7777777777777778,
              "#fb9f3a"
             ],
             [
              0.8888888888888888,
              "#fdca26"
             ],
             [
              1,
              "#f0f921"
             ]
            ],
            "type": "heatmap"
           }
          ],
          "heatmapgl": [
           {
            "colorbar": {
             "outlinewidth": 0,
             "ticks": ""
            },
            "colorscale": [
             [
              0,
              "#0d0887"
             ],
             [
              0.1111111111111111,
              "#46039f"
             ],
             [
              0.2222222222222222,
              "#7201a8"
             ],
             [
              0.3333333333333333,
              "#9c179e"
             ],
             [
              0.4444444444444444,
              "#bd3786"
             ],
             [
              0.5555555555555556,
              "#d8576b"
             ],
             [
              0.6666666666666666,
              "#ed7953"
             ],
             [
              0.7777777777777778,
              "#fb9f3a"
             ],
             [
              0.8888888888888888,
              "#fdca26"
             ],
             [
              1,
              "#f0f921"
             ]
            ],
            "type": "heatmapgl"
           }
          ],
          "histogram": [
           {
            "marker": {
             "pattern": {
              "fillmode": "overlay",
              "size": 10,
              "solidity": 0.2
             }
            },
            "type": "histogram"
           }
          ],
          "histogram2d": [
           {
            "colorbar": {
             "outlinewidth": 0,
             "ticks": ""
            },
            "colorscale": [
             [
              0,
              "#0d0887"
             ],
             [
              0.1111111111111111,
              "#46039f"
             ],
             [
              0.2222222222222222,
              "#7201a8"
             ],
             [
              0.3333333333333333,
              "#9c179e"
             ],
             [
              0.4444444444444444,
              "#bd3786"
             ],
             [
              0.5555555555555556,
              "#d8576b"
             ],
             [
              0.6666666666666666,
              "#ed7953"
             ],
             [
              0.7777777777777778,
              "#fb9f3a"
             ],
             [
              0.8888888888888888,
              "#fdca26"
             ],
             [
              1,
              "#f0f921"
             ]
            ],
            "type": "histogram2d"
           }
          ],
          "histogram2dcontour": [
           {
            "colorbar": {
             "outlinewidth": 0,
             "ticks": ""
            },
            "colorscale": [
             [
              0,
              "#0d0887"
             ],
             [
              0.1111111111111111,
              "#46039f"
             ],
             [
              0.2222222222222222,
              "#7201a8"
             ],
             [
              0.3333333333333333,
              "#9c179e"
             ],
             [
              0.4444444444444444,
              "#bd3786"
             ],
             [
              0.5555555555555556,
              "#d8576b"
             ],
             [
              0.6666666666666666,
              "#ed7953"
             ],
             [
              0.7777777777777778,
              "#fb9f3a"
             ],
             [
              0.8888888888888888,
              "#fdca26"
             ],
             [
              1,
              "#f0f921"
             ]
            ],
            "type": "histogram2dcontour"
           }
          ],
          "mesh3d": [
           {
            "colorbar": {
             "outlinewidth": 0,
             "ticks": ""
            },
            "type": "mesh3d"
           }
          ],
          "parcoords": [
           {
            "line": {
             "colorbar": {
              "outlinewidth": 0,
              "ticks": ""
             }
            },
            "type": "parcoords"
           }
          ],
          "pie": [
           {
            "automargin": true,
            "type": "pie"
           }
          ],
          "scatter": [
           {
            "fillpattern": {
             "fillmode": "overlay",
             "size": 10,
             "solidity": 0.2
            },
            "type": "scatter"
           }
          ],
          "scatter3d": [
           {
            "line": {
             "colorbar": {
              "outlinewidth": 0,
              "ticks": ""
             }
            },
            "marker": {
             "colorbar": {
              "outlinewidth": 0,
              "ticks": ""
             }
            },
            "type": "scatter3d"
           }
          ],
          "scattercarpet": [
           {
            "marker": {
             "colorbar": {
              "outlinewidth": 0,
              "ticks": ""
             }
            },
            "type": "scattercarpet"
           }
          ],
          "scattergeo": [
           {
            "marker": {
             "colorbar": {
              "outlinewidth": 0,
              "ticks": ""
             }
            },
            "type": "scattergeo"
           }
          ],
          "scattergl": [
           {
            "marker": {
             "colorbar": {
              "outlinewidth": 0,
              "ticks": ""
             }
            },
            "type": "scattergl"
           }
          ],
          "scattermapbox": [
           {
            "marker": {
             "colorbar": {
              "outlinewidth": 0,
              "ticks": ""
             }
            },
            "type": "scattermapbox"
           }
          ],
          "scatterpolar": [
           {
            "marker": {
             "colorbar": {
              "outlinewidth": 0,
              "ticks": ""
             }
            },
            "type": "scatterpolar"
           }
          ],
          "scatterpolargl": [
           {
            "marker": {
             "colorbar": {
              "outlinewidth": 0,
              "ticks": ""
             }
            },
            "type": "scatterpolargl"
           }
          ],
          "scatterternary": [
           {
            "marker": {
             "colorbar": {
              "outlinewidth": 0,
              "ticks": ""
             }
            },
            "type": "scatterternary"
           }
          ],
          "surface": [
           {
            "colorbar": {
             "outlinewidth": 0,
             "ticks": ""
            },
            "colorscale": [
             [
              0,
              "#0d0887"
             ],
             [
              0.1111111111111111,
              "#46039f"
             ],
             [
              0.2222222222222222,
              "#7201a8"
             ],
             [
              0.3333333333333333,
              "#9c179e"
             ],
             [
              0.4444444444444444,
              "#bd3786"
             ],
             [
              0.5555555555555556,
              "#d8576b"
             ],
             [
              0.6666666666666666,
              "#ed7953"
             ],
             [
              0.7777777777777778,
              "#fb9f3a"
             ],
             [
              0.8888888888888888,
              "#fdca26"
             ],
             [
              1,
              "#f0f921"
             ]
            ],
            "type": "surface"
           }
          ],
          "table": [
           {
            "cells": {
             "fill": {
              "color": "#EBF0F8"
             },
             "line": {
              "color": "white"
             }
            },
            "header": {
             "fill": {
              "color": "#C8D4E3"
             },
             "line": {
              "color": "white"
             }
            },
            "type": "table"
           }
          ]
         },
         "layout": {
          "annotationdefaults": {
           "arrowcolor": "#2a3f5f",
           "arrowhead": 0,
           "arrowwidth": 1
          },
          "autotypenumbers": "strict",
          "coloraxis": {
           "colorbar": {
            "outlinewidth": 0,
            "ticks": ""
           }
          },
          "colorscale": {
           "diverging": [
            [
             0,
             "#8e0152"
            ],
            [
             0.1,
             "#c51b7d"
            ],
            [
             0.2,
             "#de77ae"
            ],
            [
             0.3,
             "#f1b6da"
            ],
            [
             0.4,
             "#fde0ef"
            ],
            [
             0.5,
             "#f7f7f7"
            ],
            [
             0.6,
             "#e6f5d0"
            ],
            [
             0.7,
             "#b8e186"
            ],
            [
             0.8,
             "#7fbc41"
            ],
            [
             0.9,
             "#4d9221"
            ],
            [
             1,
             "#276419"
            ]
           ],
           "sequential": [
            [
             0,
             "#0d0887"
            ],
            [
             0.1111111111111111,
             "#46039f"
            ],
            [
             0.2222222222222222,
             "#7201a8"
            ],
            [
             0.3333333333333333,
             "#9c179e"
            ],
            [
             0.4444444444444444,
             "#bd3786"
            ],
            [
             0.5555555555555556,
             "#d8576b"
            ],
            [
             0.6666666666666666,
             "#ed7953"
            ],
            [
             0.7777777777777778,
             "#fb9f3a"
            ],
            [
             0.8888888888888888,
             "#fdca26"
            ],
            [
             1,
             "#f0f921"
            ]
           ],
           "sequentialminus": [
            [
             0,
             "#0d0887"
            ],
            [
             0.1111111111111111,
             "#46039f"
            ],
            [
             0.2222222222222222,
             "#7201a8"
            ],
            [
             0.3333333333333333,
             "#9c179e"
            ],
            [
             0.4444444444444444,
             "#bd3786"
            ],
            [
             0.5555555555555556,
             "#d8576b"
            ],
            [
             0.6666666666666666,
             "#ed7953"
            ],
            [
             0.7777777777777778,
             "#fb9f3a"
            ],
            [
             0.8888888888888888,
             "#fdca26"
            ],
            [
             1,
             "#f0f921"
            ]
           ]
          },
          "colorway": [
           "#636efa",
           "#EF553B",
           "#00cc96",
           "#ab63fa",
           "#FFA15A",
           "#19d3f3",
           "#FF6692",
           "#B6E880",
           "#FF97FF",
           "#FECB52"
          ],
          "font": {
           "color": "#2a3f5f"
          },
          "geo": {
           "bgcolor": "white",
           "lakecolor": "white",
           "landcolor": "white",
           "showlakes": true,
           "showland": true,
           "subunitcolor": "#C8D4E3"
          },
          "hoverlabel": {
           "align": "left"
          },
          "hovermode": "closest",
          "mapbox": {
           "style": "light"
          },
          "paper_bgcolor": "white",
          "plot_bgcolor": "white",
          "polar": {
           "angularaxis": {
            "gridcolor": "#EBF0F8",
            "linecolor": "#EBF0F8",
            "ticks": ""
           },
           "bgcolor": "white",
           "radialaxis": {
            "gridcolor": "#EBF0F8",
            "linecolor": "#EBF0F8",
            "ticks": ""
           }
          },
          "scene": {
           "xaxis": {
            "backgroundcolor": "white",
            "gridcolor": "#DFE8F3",
            "gridwidth": 2,
            "linecolor": "#EBF0F8",
            "showbackground": true,
            "ticks": "",
            "zerolinecolor": "#EBF0F8"
           },
           "yaxis": {
            "backgroundcolor": "white",
            "gridcolor": "#DFE8F3",
            "gridwidth": 2,
            "linecolor": "#EBF0F8",
            "showbackground": true,
            "ticks": "",
            "zerolinecolor": "#EBF0F8"
           },
           "zaxis": {
            "backgroundcolor": "white",
            "gridcolor": "#DFE8F3",
            "gridwidth": 2,
            "linecolor": "#EBF0F8",
            "showbackground": true,
            "ticks": "",
            "zerolinecolor": "#EBF0F8"
           }
          },
          "shapedefaults": {
           "line": {
            "color": "#2a3f5f"
           }
          },
          "ternary": {
           "aaxis": {
            "gridcolor": "#DFE8F3",
            "linecolor": "#A2B1C6",
            "ticks": ""
           },
           "baxis": {
            "gridcolor": "#DFE8F3",
            "linecolor": "#A2B1C6",
            "ticks": ""
           },
           "bgcolor": "white",
           "caxis": {
            "gridcolor": "#DFE8F3",
            "linecolor": "#A2B1C6",
            "ticks": ""
           }
          },
          "title": {
           "x": 0.05
          },
          "xaxis": {
           "automargin": true,
           "gridcolor": "#EBF0F8",
           "linecolor": "#EBF0F8",
           "ticks": "",
           "title": {
            "standoff": 15
           },
           "zerolinecolor": "#EBF0F8",
           "zerolinewidth": 2
          },
          "yaxis": {
           "automargin": true,
           "gridcolor": "#EBF0F8",
           "linecolor": "#EBF0F8",
           "ticks": "",
           "title": {
            "standoff": 15
           },
           "zerolinecolor": "#EBF0F8",
           "zerolinewidth": 2
          }
         }
        },
        "title": {
         "text": "Spread, Bollinger Bands, and Buy/Sell Signals (Last 30 Bars)"
        },
        "width": 1000,
        "xaxis": {
         "title": {
          "text": "Date"
         }
        },
        "yaxis": {
         "title": {
          "text": "Spread"
         }
        }
       }
      }
     },
     "metadata": {},
     "output_type": "display_data"
    }
   ],
   "source": [
    "import plotly.graph_objects as go\n",
    "\n",
    "# --- Function to fetch latest N bars for each option ---\n",
    "async def fetch_new_bars(symbol, lastTradeDateOrContractMonth, strike, right, n_bars=1):\n",
    "    ib = IB()\n",
    "    await ib.connectAsync('127.0.0.1', 7497, clientId=np.random.randint(1000, 10000))\n",
    "    option_contract = Option(\n",
    "        symbol=symbol,\n",
    "        lastTradeDateOrContractMonth=lastTradeDateOrContractMonth,\n",
    "        strike=strike,\n",
    "        right=right,\n",
    "        exchange='SMART',\n",
    "        currency='USD'\n",
    "    )\n",
    "    await ib.qualifyContractsAsync(option_contract)\n",
    "    bars = await ib.reqHistoricalDataAsync(\n",
    "        contract=option_contract,\n",
    "        endDateTime='',\n",
    "        durationStr=f'{n_bars} min',\n",
    "        barSizeSetting='1 min',\n",
    "        whatToShow='TRADES',\n",
    "        useRTH=True,\n",
    "        formatDate=1\n",
    "    )\n",
    "    ib.disconnect()\n",
    "    if not bars:\n",
    "        print(f\"No new bars returned for {symbol} {strike} {right}.\")\n",
    "        return pd.DataFrame()\n",
    "    df = util.df(bars)\n",
    "    df.set_index('date', inplace=True)\n",
    "    df.rename(columns={'close': 'Close'}, inplace=True)  # Ensure 'Close' exists\n",
    "    return df\n",
    "\n",
    "# --- Function to update BB strategy with new data ---\n",
    "def update_bb_strategy(datafix, datafix2, new_data1, new_data2, window=20, num_std=2):\n",
    "    # Append new data if not already present\n",
    "    datafix = pd.concat([datafix, new_data1[~new_data1.index.isin(datafix.index)]])\n",
    "    datafix2 = pd.concat([datafix2, new_data2[~new_data2.index.isin(datafix2.index)]])\n",
    "    datafix.index = datafix.index.tz_localize(None)\n",
    "    datafix2.index = datafix2.index.tz_localize(None)\n",
    "    # Update spread\n",
    "    datafix[\"spread\"] = datafix[\"Close\"] - datafix2[\"Close\"]\n",
    "    # Update Bollinger Bands (only recalc for last window+1 rows for speed)\n",
    "    recent = datafix.tail(window+1).copy()\n",
    "    recent['bb_middle'] = recent['spread'].rolling(window=window).mean()\n",
    "    recent['bb_std'] = recent['spread'].rolling(window=window).std()\n",
    "    recent['bb_upper'] = recent['bb_middle'] + num_std * recent['bb_std']\n",
    "    recent['bb_lower'] = recent['bb_middle'] - num_std * recent['bb_std']\n",
    "    recent['prev_spread'] = recent['spread'].shift(1)\n",
    "    recent['prev_bb_lower'] = recent['bb_lower'].shift(1)\n",
    "    recent['prev_bb_upper'] = recent['bb_upper'].shift(1)\n",
    "    buy_mask = (recent['prev_spread'] > recent['prev_bb_lower']) & (recent['spread'] < recent['bb_lower'])\n",
    "    sell_mask = (recent['prev_spread'] < recent['prev_bb_upper']) & (recent['spread'] > recent['bb_upper'])\n",
    "    recent['bb_signal'] = 'hold'\n",
    "    recent.loc[buy_mask, 'bb_signal'] = 'buy'\n",
    "    recent.loc[sell_mask, 'bb_signal'] = 'sell'\n",
    "    datafix.update(recent)\n",
    "    return datafix, datafix2\n",
    "\n",
    "# --- Function to continue backtest from previous state ---\n",
    "def continue_bb_backtest(datafix, initial_capital=1000, fee=1.50, multiplier=100):\n",
    "    last_idx = datafix['BB_Portfolio'].last_valid_index()\n",
    "    if last_idx is not None:\n",
    "        capital = datafix.at[last_idx, 'BB_Portfolio']\n",
    "        position = datafix.at[last_idx, 'BB_Position']\n",
    "        if position == 1:\n",
    "            entry_spread = datafix.loc[:last_idx][datafix['bb_signal'] == 'buy']['spread'].iloc[-1]\n",
    "        else:\n",
    "            entry_spread = None\n",
    "        new_rows = datafix.loc[last_idx:].iloc[1:]\n",
    "    else:\n",
    "        capital = initial_capital\n",
    "        position = 0\n",
    "        entry_spread = None\n",
    "        new_rows = datafix\n",
    "    portfolio = []\n",
    "    positions = []\n",
    "    for idx, row in new_rows.iterrows():\n",
    "        sig = row['bb_signal']\n",
    "        spread = row['spread']\n",
    "        if sig == 'buy' and position == 0:\n",
    "            position = 1\n",
    "            entry_spread = spread\n",
    "            capital -= fee\n",
    "        elif sig == 'sell' and position == 1:\n",
    "            pnl = (spread - entry_spread) * multiplier\n",
    "            capital += pnl\n",
    "            capital -= fee\n",
    "            position = 0\n",
    "            entry_spread = None\n",
    "        portfolio.append(capital)\n",
    "        positions.append(position)\n",
    "        datafix.at[idx, 'BB_Portfolio'] = capital\n",
    "        datafix.at[idx, 'BB_Position'] = position\n",
    "    return datafix\n",
    "\n",
    "# --- Example usage: update with new data and plot ---\n",
    "# Fetch new bars (example: 1 new bar)\n",
    "new_data1 = await fetch_new_bars(symbol1, lastTradeDateOrContractMonth1, strike1, right1, n_bars=1)\n",
    "new_data2 = await fetch_new_bars(symbol2, lastTradeDateOrContractMonth2, strike2, right2, n_bars=1)\n",
    "\n",
    "# Update BB strategy DataFrame and backtest if we have new data\n",
    "if not new_data1.empty and not new_data2.empty:\n",
    "    datafix, datafix2 = update_bb_strategy(datafix, datafix2, new_data1, new_data2, window=20, num_std=2)\n",
    "    datafix = continue_bb_backtest(datafix, initial_capital=1000, fee=1.50, multiplier=100)\n",
    "    print(\"New bars found. Plotting latest data.\")\n",
    "else:\n",
    "    print(\"No new bars found. Plotting last 30 bars of current datafix.\")\n",
    "\n",
    "# Always plot the last 30 bars (including new ones if present)\n",
    "plot_df = datafix.tail(30)\n",
    "\n",
    "fig = go.Figure()\n",
    "fig.add_trace(go.Scatter(\n",
    "    x=plot_df.index, y=plot_df[\"spread\"],\n",
    "    mode='lines', name='Spread', line=dict(color='black', width=2)\n",
    "))\n",
    "fig.add_trace(go.Scatter(\n",
    "    x=plot_df.index, y=plot_df['bb_upper'],\n",
    "    mode='lines', name='BB Upper', line=dict(color='green', dash='dash')\n",
    "))\n",
    "fig.add_trace(go.Scatter(\n",
    "    x=plot_df.index, y=plot_df['bb_lower'],\n",
    "    mode='lines', name='BB Lower', line=dict(color='red', dash='dash')\n",
    "))\n",
    "fig.add_trace(go.Scatter(\n",
    "    x=plot_df.index, y=plot_df['bb_middle'],\n",
    "    mode='lines', name='BB Middle', line=dict(color='orange', dash='dot')\n",
    "))\n",
    "buy_signals = plot_df[plot_df[\"bb_signal\"] == \"buy\"]\n",
    "fig.add_trace(go.Scatter(\n",
    "    x=buy_signals.index, y=buy_signals[\"spread\"],\n",
    "    mode='markers', name='Buy (on spread)',\n",
    "    marker=dict(symbol='triangle-up', color='green', size=14, line=dict(color='black', width=1.5))\n",
    "))\n",
    "sell_signals = plot_df[plot_df[\"bb_signal\"] == \"sell\"]\n",
    "fig.add_trace(go.Scatter(\n",
    "    x=sell_signals.index, y=sell_signals[\"spread\"],\n",
    "    mode='markers', name='Sell (on spread)',\n",
    "    marker=dict(symbol='triangle-down', color='red', size=14, line=dict(color='black', width=1.5))\n",
    "))\n",
    "fig.update_layout(\n",
    "    title=\"Spread, Bollinger Bands, and Buy/Sell Signals (Last 30 Bars)\",\n",
    "    xaxis_title=\"Date\",\n",
    "    yaxis_title=\"Spread\",\n",
    "    legend=dict(x=0.01, y=0.99),\n",
    "    hovermode='x unified',\n",
    "    template='plotly_white',\n",
    "    width=1000,\n",
    "    height=500\n",
    ")\n",
    "fig.show()\n"
   ]
  },
  {
   "cell_type": "code",
   "execution_count": null,
   "id": "faedd21a",
   "metadata": {},
   "outputs": [
    {
     "name": "stdout",
     "output_type": "stream",
     "text": [
      "No actionable signal (hold). No order placed.\n"
     ]
    }
   ],
   "source": [
    "from ib_insync import *\n",
    "import numpy as np\n",
    "import pandas as pd\n",
    "\n",
    "# --- Connect to IBKR ---\n",
    "ib = IB()\n",
    "ib.connect('127.0.0.1', 7497, clientId=np.random.randint(1000, 10000))\n",
    "\n",
    "# --- Define option contracts ---\n",
    "option1 = Option(\n",
    "    symbol=symbol1,\n",
    "    lastTradeDateOrContractMonth=lastTradeDateOrContractMonth1,\n",
    "    strike=strike1,\n",
    "    right=right1,\n",
    "    exchange='SMART',\n",
    "    currency='USD'\n",
    ")\n",
    "option2 = Option(\n",
    "    symbol=symbol2,\n",
    "    lastTradeDateOrContractMonth=lastTradeDateOrContractMonth2,\n",
    "    strike=strike2,\n",
    "    right=right2,\n",
    "    exchange='SMART',\n",
    "    currency='USD'\n",
    ")\n",
    "ib.qualifyContracts(option1, option2)\n",
    "\n",
    "# --- Get current signal ---\n",
    "last_row = datafix.iloc[-1]\n",
    "signal = last_row['bb_signal']\n",
    "print(f\"Latest signal: {signal}\")\n",
    "\n",
    "# --- Get current positions ---\n",
    "positions = {p.contract.conId: p.position for p in ib.positions()}\n",
    "pos1 = positions.get(option1.conId, 0)\n",
    "pos2 = positions.get(option2.conId, 0)\n",
    "\n",
    "# Determine current spread position\n",
    "# Long spread: +1 option1, -1 option2\n",
    "# Short spread: -1 option1, +1 option2\n",
    "if pos1 == 1 and pos2 == -1:\n",
    "    current_position = 'long'\n",
    "elif pos1 == -1 and pos2 == 1:\n",
    "    current_position = 'short'\n",
    "else:\n",
    "    current_position = 'flat'\n",
    "\n",
    "print(f\"Current spread position: {current_position}\")\n",
    "\n",
    "# --- Core Logic: Exit first, then wait for next bar to enter ---\n",
    "# Simulate persistent state (could be stored externally in live systems)\n",
    "pending_entry = None\n",
    "\n",
    "# 1. Exit if signal says to reverse\n",
    "if current_position == 'long' and signal == 'sell':\n",
    "    print(\"Exiting LONG spread...\")\n",
    "    ib.placeOrder(option1, MarketOrder('SELL', 1))  # Close long\n",
    "    ib.placeOrder(option2, MarketOrder('BUY', 1))   # Close short\n",
    "    pending_entry = 'short'\n",
    "\n",
    "elif current_position == 'short' and signal == 'buy':\n",
    "    print(\"Exiting SHORT spread...\")\n",
    "    ib.placeOrder(option1, MarketOrder('BUY', 1))   # Close short\n",
    "    ib.placeOrder(option2, MarketOrder('SELL', 1))  # Close long\n",
    "    pending_entry = 'long'\n",
    "\n",
    "# 2. If flat and signal is actionable, enter position\n",
    "elif current_position == 'flat':\n",
    "    if signal == 'buy':\n",
    "        print(\"Entering LONG spread: Buy option1, Sell option2\")\n",
    "        ib.placeOrder(option1, MarketOrder('BUY', 1))\n",
    "        ib.placeOrder(option2, MarketOrder('SELL', 1))\n",
    "    elif signal == 'sell':\n",
    "        print(\"Entering SHORT spread: Sell option1, Buy option2\")\n",
    "        ib.placeOrder(option1, MarketOrder('SELL', 1))\n",
    "        ib.placeOrder(option2, MarketOrder('BUY', 1))\n",
    "    else:\n",
    "        print(\"Signal is hold. No action taken.\")\n",
    "\n",
    "else:\n",
    "    print(\"Already in correct position or waiting for exit confirmation. No new entry.\")\n",
    "\n",
    "# --- Disconnect ---\n",
    "ib.disconnect()\n"
   ]
  },
  {
   "cell_type": "code",
   "execution_count": null,
   "id": "6d3b3d25",
   "metadata": {},
   "outputs": [
    {
     "name": "stderr",
     "output_type": "stream",
     "text": [
      "Error 10091, reqId 5: Part of requested market data requires additional subscription for API. See link in 'Market Data Connections' dialog for more details.GOOG NASDAQ.NMS/TOP/ALL, contract: Option(conId=789544013, symbol='GOOG', lastTradeDateOrContractMonth='20250725', strike=180.0, right='P', multiplier='100', exchange='SMART', currency='USD', localSymbol='GOOG  250725P00180000', tradingClass='GOOG')\n",
      "Error 10091, reqId 6: Part of requested market data requires additional subscription for API. See link in 'Market Data Connections' dialog for more details.GOOG NASDAQ.NMS/TOP/ALL, contract: Option(conId=789543774, symbol='GOOG', lastTradeDateOrContractMonth='20250725', strike=160.0, right='P', multiplier='100', exchange='SMART', currency='USD', localSymbol='GOOG  250725P00160000', tradingClass='GOOG')\n",
      "Error 354, reqId 5: Requested market data is not subscribed. Check API status by selecting the Account menu then under Management choose Market Data Subscription Manager and/or availability of delayed data.Delayed market data is available.GOOG JUL 25 '25 180 Put/TOP/ALL, contract: Option(conId=789544013, symbol='GOOG', lastTradeDateOrContractMonth='20250725', strike=180.0, right='P', multiplier='100', exchange='SMART', currency='USD', localSymbol='GOOG  250725P00180000', tradingClass='GOOG')\n",
      "Error 354, reqId 5: Requested market data is not subscribed. Check API status by selecting the Account menu then under Management choose Market Data Subscription Manager and/or availability of delayed data.Delayed market data is available.Error&BEST/OPT/Top&BEST/OPT/Top, contract: Option(conId=789544013, symbol='GOOG', lastTradeDateOrContractMonth='20250725', strike=180.0, right='P', multiplier='100', exchange='SMART', currency='USD', localSymbol='GOOG  250725P00180000', tradingClass='GOOG')\n",
      "Error 354, reqId 6: Requested market data is not subscribed. Check API status by selecting the Account menu then under Management choose Market Data Subscription Manager and/or availability of delayed data.Delayed market data is available.GOOG JUL 25 '25 160 Put/TOP/ALL, contract: Option(conId=789543774, symbol='GOOG', lastTradeDateOrContractMonth='20250725', strike=160.0, right='P', multiplier='100', exchange='SMART', currency='USD', localSymbol='GOOG  250725P00160000', tradingClass='GOOG')\n",
      "Error 354, reqId 6: Requested market data is not subscribed. Check API status by selecting the Account menu then under Management choose Market Data Subscription Manager and/or availability of delayed data.Delayed market data is available.Error&BEST/OPT/Top&BEST/OPT/Top, contract: Option(conId=789543774, symbol='GOOG', lastTradeDateOrContractMonth='20250725', strike=160.0, right='P', multiplier='100', exchange='SMART', currency='USD', localSymbol='GOOG  250725P00160000', tradingClass='GOOG')\n",
      "cancelMktData: No reqId found for contract Ticker(contract=Option(conId=789544013, symbol='GOOG', lastTradeDateOrContractMonth='20250725', strike=180.0, right='P', multiplier='100', exchange='SMART', currency='USD', localSymbol='GOOG  250725P00180000', tradingClass='GOOG'))\n",
      "cancelMktData: No reqId found for contract Ticker(contract=Option(conId=789543774, symbol='GOOG', lastTradeDateOrContractMonth='20250725', strike=160.0, right='P', multiplier='100', exchange='SMART', currency='USD', localSymbol='GOOG  250725P00160000', tradingClass='GOOG'))\n"
     ]
    },
    {
     "name": "stdout",
     "output_type": "stream",
     "text": [
      "Option 1 (Lower Strike):\n",
      "  Bid: nan, Ask: nan, Last: nan\n",
      "Option 2 (Higher Strike):\n",
      "  Bid: nan, Ask: nan, Last: nan\n"
     ]
    }
   ],
   "source": [
    "from ib_insync import *\n",
    "import numpy as np\n",
    "\n",
    "# --- Connect to IBKR Paper Trading (Port 7497) ---\n",
    "ib = IB()\n",
    "ib.connect('127.0.0.1', 7497, clientId=np.random.randint(1000, 10000))\n",
    "\n",
    "# --- Define Option Contracts Using Your Variables ---\n",
    "option1 = Option(\n",
    "    symbol=symbol1,\n",
    "    lastTradeDateOrContractMonth=lastTradeDateOrContractMonth1,\n",
    "    strike=strike1,\n",
    "    right=right1,\n",
    "    exchange='SMART',\n",
    "    currency='USD'\n",
    ")\n",
    "\n",
    "option2 = Option(\n",
    "    symbol=symbol2,\n",
    "    lastTradeDateOrContractMonth=lastTradeDateOrContractMonth2,\n",
    "    strike=strike2,\n",
    "    right=right2,\n",
    "    exchange='SMART',\n",
    "    currency='USD'\n",
    ")\n",
    "\n",
    "# --- Qualify Contracts ---\n",
    "ib.qualifyContracts(option1, option2)\n",
    "\n",
    "# --- Request Live Market Data ---\n",
    "ticker1 = ib.reqMktData(option1, '', False, False)\n",
    "ticker2 = ib.reqMktData(option2, '', False, False)\n",
    "\n",
    "# --- Wait for Data to Populate ---\n",
    "ib.sleep(2)\n",
    "\n",
    "# --- Print Live Quotes ---\n",
    "print(\"Option 1 (Lower Strike):\")\n",
    "print(f\"  Bid: {ticker1.bid}, Ask: {ticker1.ask}, Last: {ticker1.last}\")\n",
    "\n",
    "print(\"Option 2 (Higher Strike):\")\n",
    "print(f\"  Bid: {ticker2.bid}, Ask: {ticker2.ask}, Last: {ticker2.last}\")\n",
    "\n",
    "# --- Cancel Market Data Subscriptions ---\n",
    "ib.cancelMktData(ticker1)\n",
    "ib.cancelMktData(ticker2)\n",
    "\n",
    "# --- Disconnect ---\n",
    "ib.disconnect()\n"
   ]
  }
 ],
 "metadata": {
  "kernelspec": {
   "display_name": "base",
   "language": "python",
   "name": "python3"
  },
  "language_info": {
   "codemirror_mode": {
    "name": "ipython",
    "version": 3
   },
   "file_extension": ".py",
   "mimetype": "text/x-python",
   "name": "python",
   "nbconvert_exporter": "python",
   "pygments_lexer": "ipython3",
   "version": "3.12.7"
  }
 },
 "nbformat": 4,
 "nbformat_minor": 5
}

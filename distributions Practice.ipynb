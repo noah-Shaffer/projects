{
 "cells": [
  {
   "cell_type": "code",
   "execution_count": null,
   "id": "a8c716da",
   "metadata": {},
   "outputs": [],
   "source": [
    "rdef"
   ]
  },
  {
   "cell_type": "code",
   "execution_count": null,
   "id": "dd61aec3",
   "metadata": {},
   "outputs": [],
   "source": []
  }
 ],
 "metadata": {
  "language_info": {
   "name": "python"
  }
 },
 "nbformat": 4,
 "nbformat_minor": 5
}

{
 "cells": [
  {
   "cell_type": "markdown",
   "id": "d0a069d7",
   "metadata": {},
   "source": [
    "Build out a PCA model to show relation between VAL stock or another offshore pair company, then model spread and create pair trading signal based on forecasting underlying asset acceleration or relative statistical deviation between the two. PCA > Relations/Distributions > kalman filter / pair indicator > post to text > front test "
   ]
  },
  {
   "cell_type": "code",
   "execution_count": null,
   "id": "0d1b0542",
   "metadata": {
    "vscode": {
     "languageId": "plaintext"
    }
   },
   "outputs": [],
   "source": []
  }
 ],
 "metadata": {
  "language_info": {
   "name": "python"
  }
 },
 "nbformat": 4,
 "nbformat_minor": 5
}

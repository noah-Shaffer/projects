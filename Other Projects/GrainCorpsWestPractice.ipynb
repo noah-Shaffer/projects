{
 "cells": [
  {
   "cell_type": "markdown",
   "id": "0d198d61",
   "metadata": {},
   "source": [
    "Order of action\n",
    "1. Revalue BDI swaps\n",
    "2. Deisel cost pass through \n",
    "3. Bonus price contract freight phosphate\n",
    "4. Deisel Force Majeure \n",
    "5. Spread \n",
    "6. Phosphate cargoes"
   ]
  },
  {
   "cell_type": "code",
   "execution_count": null,
   "id": "29fec387",
   "metadata": {},
   "outputs": [
    {
     "name": "stdout",
     "output_type": "stream",
     "text": [
      "New fixed rate for BDI swaps per ton:  28.7531026112428\n"
     ]
    }
   ],
   "source": [
    "# 1. Revalue Bdi Swaps \n",
    "\"\"\"\n",
    "Possible FACTORS:\n",
    "- Settlement date rollover misalignment\n",
    "- Maturity dates\n",
    "- Underlying shipment goes through Atlantic into the Gulf of Mexico | Hedged for a panama canal transfer \n",
    "- 0.1 multiplier for BDI\n",
    "- Inconsistent tanker size hedged, implicit of BDI swap\n",
    "The Baltic Dry Index (BDI) is the successor to the Baltic Freight Index (BFI) and came into operation on 1 November 1999. \n",
    "Since 1 March 2018, the index is a weighted average of the Capesize 40pct, \n",
    "Panamax 30pct and Supramax 30pct Timecharter Averages which is then multiplied by a multiplier of 0.1.\n",
    "\n",
    "\n",
    "ERRORS:\n",
    "2 possible discrepencies in location:\n",
    "1. The BDI is a global index, but the underlying shipment is specified to go through the Atlantic into the Gulf of Mexico. \n",
    "So GCW is paying higher rate on fixed, for a currently low variable swap rate\n",
    "2. The BDI swap is fairly priced for Morocco > New Orleans, but the shipments to suppliers go through panama canal into S.America. \n",
    "\"\"\"\n",
    "\n",
    "#Revaluation of new hedge BDI Swaps \n",
    "import math \n",
    "N = 4 # Number of deltaI's\n",
    "r = 0.045\n",
    "deltaI = 1 / 4 # Accrual factor for BDI Swaps\n",
    "Ffixed = 0 # fixed swap rate --Will solve for this--\n",
    "Findex = [28.79,28.79,28.78,28.65]# variable annualized swap rate, based on BDI, would be adjusted to be dollar notional per ton\n",
    "V = 100 # Notional index volume (approximately assumes the # of tons in the route calculation, accounting for a 0.1 multiplier)\n",
    "Discount_factors = [math.exp(-r * (90 * (i+1) / 360)) for i in range(N)] # Discount factor for the swap valuation, at each deltaI period\n",
    "# at open settlement date, fixed rate = index rate \n",
    "# currently, the fixed rate is higher than the index rate, causing the sharp spike in hedge losses\n",
    "numerator = sum(Findex[i] * deltaI * Discount_factors[i] for i in range(N))\n",
    "denominator = sum(deltaI * Discount_factors[i] for i in range(N)) \n",
    "Ffixed = numerator / denominator # New fixed rate, based on the average of the index rates\n",
    "print(\"New fixed rate for BDI swaps per ton: \", Ffixed)\n",
    "\n",
    "\"\"\"\"\n",
    "Step-by-step explanation of calculating the fixed swap rate for freight swaps (no code):\n",
    "\n",
    "1. **Define the number of payment periods and accrual factor:**  \n",
    "   Determine how many payment periods (N) there are (e.g., quarterly payments means N=4) and the accrual factor per period (fraction of year each period represents, e.g., 0.25 for quarterly).\n",
    "\n",
    "2. **Obtain the floating freight rates for each period:**  \n",
    "   Have the expected floating rates (Findex) for each payment period, usually annualized rates quoted in $/ton.\n",
    "\n",
    "3. **Set the annual discount rate:**  \n",
    "   Use the annual discount rate (r) representing the relevant interest rate environment for discounting future cash flows.\n",
    "\n",
    "4. **Calculate the discount factor for each payment date:**  \n",
    "   For each period, calculate how far in the future the payment is (in years), then compute the discount factor as the present value weight using continuous compounding:  \n",
    "   $$\n",
    "   D_{t,T_i} = e^{-r \\times t_i}\n",
    "   $$  \n",
    "   where $$t_i$$ is the time to period $$i$$ in years.\n",
    "\n",
    "5. **Calculate the present value (PV) of the floating leg:**  \n",
    "   Multiply each floating rate by its corresponding accrual factor and discount factor, then sum these across all periods:  \n",
    "   $$\n",
    "   PV_{\\text{floating}} = \\sum_{i=1}^N F_{\\text{index}, i} \\times \\Delta_i \\times D_{t,T_i}\n",
    "   $$\n",
    "\n",
    "6. **Calculate the present value of the fixed leg accruals:**  \n",
    "   Sum the accrual factors discounted by the corresponding discount factors:  \n",
    "   $$\n",
    "   PV_{\\text{fixed accrual}} = \\sum_{i=1}^N \\Delta_i \\times D_{t,T_i}\n",
    "   $$\n",
    "\n",
    "7. **Calculate the fixed swap rate:**  \n",
    "   Divide the floating leg PV by the discounted accrual sum to find the fair fixed rate that makes the swap value zero at inception:  \n",
    "   $$\n",
    "   F_{\\text{fix}} = \\frac{PV_{\\text{floating}}}{PV_{\\text{fixed accrual}}}\n",
    "   $$\n",
    "\n",
    "8. **Interpret the fixed swap rate:**  \n",
    "   This rate represents the fixed freight cost per ton that balances expected floating payments discounted to present value, ensuring neither party has an initial advantage.\n",
    "\n",
    "\"\"\"\""
   ]
  },
  {
   "cell_type": "code",
   "execution_count": null,
   "id": "664bef61",
   "metadata": {},
   "outputs": [],
   "source": []
  }
 ],
 "metadata": {
  "kernelspec": {
   "display_name": "base",
   "language": "python",
   "name": "python3"
  },
  "language_info": {
   "codemirror_mode": {
    "name": "ipython",
    "version": 3
   },
   "file_extension": ".py",
   "mimetype": "text/x-python",
   "name": "python",
   "nbconvert_exporter": "python",
   "pygments_lexer": "ipython3",
   "version": "3.12.7"
  }
 },
 "nbformat": 4,
 "nbformat_minor": 5
}

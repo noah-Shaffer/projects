{
 "cells": [
  {
   "cell_type": "markdown",
   "id": "0d198d61",
   "metadata": {},
   "source": [
    "Order of action\n",
    "1. Revalue BDI swaps\n",
    "2. Deisel cost pass through \n",
    "3. Bonus price contract freight phosphate\n",
    "4. Deisel Force Majeure \n",
    "5. Spread \n",
    "6. Phosphate cargoes"
   ]
  },
  {
   "cell_type": "code",
   "execution_count": null,
   "id": "29fec387",
   "metadata": {},
   "outputs": [],
   "source": [
    "# 1. Revalue Bdi Swaps \n",
    "\"\"\"\n",
    "\n",
    "\"\"\""
   ]
  }
 ],
 "metadata": {
  "language_info": {
   "name": "python"
  }
 },
 "nbformat": 4,
 "nbformat_minor": 5
}

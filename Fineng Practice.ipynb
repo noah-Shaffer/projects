{
 "cells": [
  {
   "cell_type": "code",
   "execution_count": null,
   "id": "21503ba3",
   "metadata": {},
   "outputs": [],
   "source": [
    "# The guide for the practice is taken from https://github.com/weijie-chen/Time-Series-and-Financial-Engineering-With-Python\n",
    "#https://github.com/weijie-chen/Time-Series-and-Financial-Engineering-With-Python/blob/main/notebooks/time_series_analysis/Chapter%201%20-%20Time%20Series%20Manipulation.ipynb\n",
    "\n",
    "import pandas as pd \n",
    "import numpy \n",
    "\n"
   ]
  }
 ],
 "metadata": {
  "language_info": {
   "name": "python"
  }
 },
 "nbformat": 4,
 "nbformat_minor": 5
}

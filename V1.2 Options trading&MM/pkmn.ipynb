{
 "cells": [
  {
   "cell_type": "code",
   "execution_count": null,
   "id": "20fad227",
   "metadata": {},
   "outputs": [],
   "source": [
    "## Can also get the price chart by pokemon number, or url for past prices. Look intro trading strategies; also, work on real-time offering feed vs history. "
   ]
  },
  {
   "cell_type": "code",
   "execution_count": 2,
   "id": "f759699b",
   "metadata": {},
   "outputs": [
    {
     "name": "stdout",
     "output_type": "stream",
     "text": [
      "Price: $4.98, Listings: 17 Listings\n",
      "Appended new data to /Users/nshaffer/Desktop/price_data.csv\n",
      "Waiting for 1 hour before next scrape...\n",
      "\n"
     ]
    },
    {
     "ename": "KeyboardInterrupt",
     "evalue": "",
     "output_type": "error",
     "traceback": [
      "\u001b[0;31m---------------------------------------------------------------------------\u001b[0m",
      "\u001b[0;31mKeyboardInterrupt\u001b[0m                         Traceback (most recent call last)",
      "Cell \u001b[0;32mIn[2], line 116\u001b[0m\n\u001b[1;32m    112\u001b[0m         time\u001b[38;5;241m.\u001b[39msleep(\u001b[38;5;241m3600\u001b[39m)  \u001b[38;5;66;03m# wait for 1 hour\u001b[39;00m\n\u001b[1;32m    115\u001b[0m \u001b[38;5;28;01mif\u001b[39;00m \u001b[38;5;18m__name__\u001b[39m \u001b[38;5;241m==\u001b[39m \u001b[38;5;124m\"\u001b[39m\u001b[38;5;124m__main__\u001b[39m\u001b[38;5;124m\"\u001b[39m:\n\u001b[0;32m--> 116\u001b[0m     main()\n",
      "Cell \u001b[0;32mIn[2], line 112\u001b[0m, in \u001b[0;36mmain\u001b[0;34m()\u001b[0m\n\u001b[1;32m    110\u001b[0m append_to_csv_and_df(price_text, listings_text)\n\u001b[1;32m    111\u001b[0m \u001b[38;5;28mprint\u001b[39m(\u001b[38;5;124m\"\u001b[39m\u001b[38;5;124mWaiting for 1 hour before next scrape...\u001b[39m\u001b[38;5;130;01m\\n\u001b[39;00m\u001b[38;5;124m\"\u001b[39m)\n\u001b[0;32m--> 112\u001b[0m time\u001b[38;5;241m.\u001b[39msleep(\u001b[38;5;241m3600\u001b[39m)\n",
      "\u001b[0;31mKeyboardInterrupt\u001b[0m: "
     ]
    }
   ],
   "source": [
    "import time\n",
    "import os\n",
    "import pandas as pd\n",
    "from datetime import datetime\n",
    "from selenium import webdriver\n",
    "from selenium.webdriver.common.by import By\n",
    "from selenium.webdriver.support.ui import WebDriverWait\n",
    "from selenium.webdriver.support import expected_conditions as EC\n",
    "\n",
    "\n",
    "# Dynamically set CSV file path to your desktop\n",
    "CSV_FILE = os.path.join(os.path.expanduser(\"~\"), \"Desktop\", \"price_data.csv\")\n",
    "\n",
    "\n",
    "# Global dataframe variable to store scraped data\n",
    "price_df = pd.DataFrame()\n",
    "\n",
    "\n",
    "def scrape_price_and_listings():\n",
    "    \"\"\"\n",
    "    Opens the TCGplayer page for Gardevoir-ex,\n",
    "    waits for price and listings elements, and extracts their text.\n",
    "    \"\"\"\n",
    "    driver = webdriver.Chrome()\n",
    "    try:\n",
    "        url = \"https://www.tcgplayer.com/product/518689/pokemon-prize-pack-series-cards-gardevoir-ex?Condition=Near+Mint&Language=English&page=1\"\n",
    "        driver.get(url)\n",
    "\n",
    "        wait = WebDriverWait(driver, 20)\n",
    "\n",
    "        price_elem = wait.until(\n",
    "            EC.presence_of_element_located((By.CLASS_NAME, \"spotlight__price\"))\n",
    "        )\n",
    "        price_text = price_elem.text.strip()\n",
    "\n",
    "        listings_elem = wait.until(\n",
    "            EC.presence_of_element_located((By.CLASS_NAME, \"filter-bar\"))\n",
    "        )\n",
    "        listings_text = listings_elem.text.strip()\n",
    "\n",
    "        print(f\"Price: {price_text}, Listings: {listings_text}\")\n",
    "        return price_text, listings_text\n",
    "\n",
    "    finally:\n",
    "        driver.quit()\n",
    "\n",
    "\n",
    "def append_to_csv_and_df(price_text, listings_text):\n",
    "    \"\"\"\n",
    "    Converts the scraped price and listings text into numeric types,\n",
    "    calculates price*listing as an integer,\n",
    "    appends new data row with timestamp to both a global dataframe and the CSV file on desktop.\n",
    "    Timestamp column is saved and used as dataframe index.\n",
    "    \"\"\"\n",
    "    global price_df\n",
    "\n",
    "    # Validate input presence\n",
    "    if not price_text or not listings_text:\n",
    "        print(\"Warning: Empty price or listings text; skipping this scrape.\")\n",
    "        return\n",
    "\n",
    "    timestamp = datetime.now()\n",
    "\n",
    "    # Convert price string (e.g. \"$4.99\") to float safely\n",
    "    try:\n",
    "        price_num = float(price_text.replace('$', '').replace(',', ''))\n",
    "    except ValueError:\n",
    "        print(f\"Warning: Could not convert price '{price_text}' to float; skipping.\")\n",
    "        return\n",
    "\n",
    "    # Extract digits and convert listings string (e.g. \"16 Listings\") to int safely\n",
    "    listings_digits = ''.join(filter(str.isdigit, listings_text))\n",
    "    if not listings_digits:\n",
    "        print(f\"Warning: Could not find numeric value in listings '{listings_text}'; skipping.\")\n",
    "        return\n",
    "\n",
    "    listings_num = int(listings_digits)\n",
    "\n",
    "    # Calculate price*listing and convert to int\n",
    "    price_times_listings = int(price_num * listings_num)\n",
    "\n",
    "    # Prepare new row as dataframe\n",
    "    new_data = {\n",
    "        \"timestamp\": [timestamp],\n",
    "        \"price\": [price_num],          # keep as float\n",
    "        \"listings\": [listings_num],   # int\n",
    "        \"price*listing\": [price_times_listings]\n",
    "    }\n",
    "    df_new = pd.DataFrame(new_data)\n",
    "\n",
    "    try:\n",
    "        # Read existing CSV with timestamp parsing\n",
    "        df_existing = pd.read_csv(CSV_FILE, parse_dates=['timestamp'])\n",
    "        price_df = pd.concat([df_existing, df_new], ignore_index=True)\n",
    "    except FileNotFoundError:\n",
    "        price_df = df_new\n",
    "\n",
    "    # Set datetime as index\n",
    "    price_df.set_index('timestamp', inplace=True)\n",
    "\n",
    "    # Save the combined dataframe to CSV\n",
    "    price_df.to_csv(CSV_FILE)\n",
    "\n",
    "    print(f\"Appended new data to {CSV_FILE}\")\n",
    "\n",
    "\n",
    "def main():\n",
    "    while True:\n",
    "        price_text, listings_text = scrape_price_and_listings()\n",
    "        append_to_csv_and_df(price_text, listings_text)\n",
    "        print(\"Waiting for 1 hour before next scrape...\\n\")\n",
    "        time.sleep(3600)  # wait for 1 hour\n",
    "\n",
    "\n",
    "if __name__ == \"__main__\":\n",
    "    main()\n"
   ]
  },
  {
   "cell_type": "code",
   "execution_count": null,
   "id": "b5ec19b1",
   "metadata": {},
   "outputs": [
    {
     "ename": "NameError",
     "evalue": "name 'df_new' is not defined",
     "output_type": "error",
     "traceback": [
      "\u001b[0;31m---------------------------------------------------------------------------\u001b[0m",
      "\u001b[0;31mNameError\u001b[0m                                 Traceback (most recent call last)",
      "Cell \u001b[0;32mIn[2], line 1\u001b[0m\n\u001b[0;32m----> 1\u001b[0m df_new\n",
      "\u001b[0;31mNameError\u001b[0m: name 'df_new' is not defined"
     ]
    }
   ],
   "source": [
    "df_new"
   ]
  }
 ],
 "metadata": {
  "kernelspec": {
   "display_name": "base",
   "language": "python",
   "name": "python3"
  },
  "language_info": {
   "codemirror_mode": {
    "name": "ipython",
    "version": 3
   },
   "file_extension": ".py",
   "mimetype": "text/x-python",
   "name": "python",
   "nbconvert_exporter": "python",
   "pygments_lexer": "ipython3",
   "version": "3.12.7"
  }
 },
 "nbformat": 4,
 "nbformat_minor": 5
}

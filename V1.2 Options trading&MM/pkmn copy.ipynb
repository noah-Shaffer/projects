{
 "cells": [
  {
   "cell_type": "code",
   "execution_count": 1,
   "id": "20fad227",
   "metadata": {},
   "outputs": [],
   "source": [
    "## Can also get the price chart by pokemon number, or url for past prices. Look intro trading strategies; also, work on real-time offering feed vs history. "
   ]
  },
  {
   "cell_type": "code",
   "execution_count": 2,
   "id": "f759699b",
   "metadata": {},
   "outputs": [
    {
     "name": "stdout",
     "output_type": "stream",
     "text": [
      "Empty DataFrame\n",
      "Columns: []\n",
      "Index: []\n"
     ]
    }
   ],
   "source": [
    "from selenium import webdriver\n",
    "from selenium.webdriver.chrome.options import Options\n",
    "from selenium.webdriver.support.ui import WebDriverWait\n",
    "from selenium.webdriver.support import expected_conditions as EC\n",
    "from selenium.webdriver.common.by import By\n",
    "from concurrent.futures import ThreadPoolExecutor, as_completed\n",
    "import pandas as pd\n",
    "import re\n",
    "\n",
    "# Customize number of pages to scrape\n",
    "num_pages = 1\n",
    "base_url = 'https://www.tcgplayer.com/search/pokemon/product?productLineName=pokemon&view=grid&Condition=Near+Mint|Lightly+Played&page={}&Language=English'\n",
    "\n",
    "# Setup headless Chrome options\n",
    "options = Options()\n",
    "options.add_argument(\"--headless=new\")\n",
    "prefs = {\"profile.default_content_setting_values\": {\"images\": 2, \"stylesheets\": 2}}\n",
    "options.add_experimental_option(\"prefs\", prefs)\n",
    "\n",
    "def scrape_page(page_num):\n",
    "    driver = webdriver.Chrome(options=options)\n",
    "    wait = WebDriverWait(driver, 10)\n",
    "    url = base_url.format(page_num)\n",
    "    driver.get(url)\n",
    "\n",
    "    try:\n",
    "        wait.until(EC.presence_of_all_elements_located((By.CLASS_NAME, \"product-card__product\")))\n",
    "    except:\n",
    "        driver.quit()\n",
    "        return []\n",
    "\n",
    "    products = driver.find_elements(By.CLASS_NAME, \"product-card__product\")\n",
    "    results = []\n",
    "\n",
    "    for product in products:\n",
    "        try:\n",
    "            # Grab the link directly from the <a> tag\n",
    "            link_elem = product.find_element(By.XPATH, \"./ancestor::a\")\n",
    "            product_link = link_elem.get_attribute(\"href\")\n",
    "        except Exception:\n",
    "            product_link = None\n",
    "\n",
    "        try:\n",
    "            img_elem = product.find_element(By.TAG_NAME, \"img\")\n",
    "            name = img_elem.get_attribute(\"alt\").strip()\n",
    "        except Exception:\n",
    "            name = None\n",
    "\n",
    "        try:\n",
    "            set_name = product.find_element(By.CLASS_NAME, \"product-card__set-name__variant\").text.strip()\n",
    "        except Exception:\n",
    "            set_name = None\n",
    "\n",
    "        try:\n",
    "            mktprice_text = product.find_element(By.CLASS_NAME, \"product-card__market-price--value\").text.strip()\n",
    "            mktprice_match = re.search(r\"\\$([\\d,.]+)\", mktprice_text)\n",
    "            mktprice = float(mktprice_match.group(1).replace(\",\", \"\")) if mktprice_match else None\n",
    "        except Exception:\n",
    "            mktprice = None\n",
    "\n",
    "        try:\n",
    "            listings_span = product.find_element(By.CLASS_NAME, \"inventory__listing-count\").text.strip()\n",
    "            listings_match = re.search(r\"(\\d+)\\s+listings\", listings_span)\n",
    "            listings = int(listings_match.group(1)) if listings_match else None\n",
    "        except Exception:\n",
    "            listings = None\n",
    "\n",
    "        results.append({\n",
    "            \"name\": name,\n",
    "            \"link\": product_link,\n",
    "            \"set\": set_name,\n",
    "            \"mktprice\": mktprice,\n",
    "            \"listings\": listings\n",
    "        })\n",
    "\n",
    "    driver.quit()\n",
    "    return results\n",
    "\n",
    "# Run across multiple pages\n",
    "all_results = []\n",
    "with ThreadPoolExecutor(max_workers=6) as executor:\n",
    "    futures = [executor.submit(scrape_page, p) for p in range(1, num_pages + 1)]\n",
    "    for future in as_completed(futures):\n",
    "        all_results.extend(future.result())\n",
    "\n",
    "# Convert to DataFrame\n",
    "pricedf = pd.DataFrame(all_results)\n",
    "print(pricedf)\n"
   ]
  },
  {
   "cell_type": "code",
   "execution_count": 3,
   "id": "4f0e618f",
   "metadata": {},
   "outputs": [
    {
     "data": {
      "text/html": [
       "<div>\n",
       "<style scoped>\n",
       "    .dataframe tbody tr th:only-of-type {\n",
       "        vertical-align: middle;\n",
       "    }\n",
       "\n",
       "    .dataframe tbody tr th {\n",
       "        vertical-align: top;\n",
       "    }\n",
       "\n",
       "    .dataframe thead th {\n",
       "        text-align: right;\n",
       "    }\n",
       "</style>\n",
       "<table border=\"1\" class=\"dataframe\">\n",
       "  <thead>\n",
       "    <tr style=\"text-align: right;\">\n",
       "      <th></th>\n",
       "    </tr>\n",
       "  </thead>\n",
       "  <tbody>\n",
       "  </tbody>\n",
       "</table>\n",
       "</div>"
      ],
      "text/plain": [
       "Empty DataFrame\n",
       "Columns: []\n",
       "Index: []"
      ]
     },
     "execution_count": 3,
     "metadata": {},
     "output_type": "execute_result"
    }
   ],
   "source": [
    "pricedf"
   ]
  },
  {
   "cell_type": "code",
   "execution_count": null,
   "id": "581bebc1",
   "metadata": {},
   "outputs": [],
   "source": [
    "from selenium import webdriver\n",
    "from selenium.webdriver.chrome.service import Service\n",
    "from selenium.webdriver.common.by import By\n",
    "from selenium.webdriver.support.ui import WebDriverWait\n",
    "from selenium.webdriver.support import expected_conditions as EC\n",
    "from webdriver_manager.chrome import ChromeDriverManager\n",
    "import pandas as pd\n",
    "\n",
    "# Setup Chrome options for speed optimizations\n",
    "options = webdriver.ChromeOptions()\n",
    "options.add_argument(\"--headless\")           # Run in headless mode\n",
    "options.add_argument(\"--disable-gpu\")        # Disable GPU hardware acceleration\n",
    "options.add_argument(\"--no-sandbox\")         # Bypass OS security model, needed in some environments\n",
    "options.add_argument(\"--disable-extensions\") # Disable extensions for faster load\n",
    "options.add_argument(\"--disable-animations\") # Disable animations if supported\n",
    "options.add_argument(\"--disable-infobars\")   # Disable info bars\n",
    "\n",
    "# Initialize driver with options and WebDriver Manager\n",
    "service = Service(ChromeDriverManager().install())\n",
    "driver = webdriver.Chrome(service=service, options=options)\n",
    "\n",
    "url = pricedf[\"link\"].iloc[0]  # First link\n",
    "driver.get(url)\n",
    "\n",
    "wait = WebDriverWait(driver, 10)\n",
    "# Use precise CSS selector for the table inside the dynamically loaded div\n",
    "table = wait.until(EC.presence_of_element_located(\n",
    "    (By.CSS_SELECTOR, \"div.martek-charts-chart table\")\n",
    "))\n",
    "\n",
    "rows = table.find_elements(By.CSS_SELECTOR, \"tbody tr\")  # Cache rows\n",
    "\n",
    "data = []\n",
    "for row in rows:\n",
    "    cols = row.find_elements(By.TAG_NAME, \"td\")\n",
    "    if len(cols) >= 3:\n",
    "        date = cols.text.strip()\n",
    "        price = cols[10].text.strip()\n",
    "        quantity = cols[11].text.strip()\n",
    "        data.append([date, price, quantity])\n",
    "\n",
    "driver.quit()\n",
    "\n",
    "df_history = pd.DataFrame(data, columns=[\"Date\", \"Price\", \"Quantity\"])\n",
    "print(df_history.head())\n"
   ]
  },
  {
   "cell_type": "code",
   "execution_count": null,
   "id": "a4ed3216",
   "metadata": {},
   "outputs": [
    {
     "ename": "NameError",
     "evalue": "name 'all_data' is not defined",
     "output_type": "error",
     "traceback": [
      "\u001b[0;31m---------------------------------------------------------------------------\u001b[0m",
      "\u001b[0;31mNameError\u001b[0m                                 Traceback (most recent call last)",
      "Cell \u001b[0;32mIn[5], line 1\u001b[0m\n\u001b[0;32m----> 1\u001b[0m \u001b[38;5;28mprint\u001b[39m(all_data)\n",
      "\u001b[0;31mNameError\u001b[0m: name 'all_data' is not defined"
     ]
    }
   ],
   "source": [
    "print(df_history)\n",
    "# try scraping single head"
   ]
  },
  {
   "cell_type": "code",
   "execution_count": null,
   "id": "28738676",
   "metadata": {},
   "outputs": [],
   "source": [
    "/Users/nshaffer/Library/Application Support/Google/Chrome/Profile 5"
   ]
  }
 ],
 "metadata": {
  "kernelspec": {
   "display_name": "base",
   "language": "python",
   "name": "python3"
  },
  "language_info": {
   "codemirror_mode": {
    "name": "ipython",
    "version": 3
   },
   "file_extension": ".py",
   "mimetype": "text/x-python",
   "name": "python",
   "nbconvert_exporter": "python",
   "pygments_lexer": "ipython3",
   "version": "3.12.7"
  }
 },
 "nbformat": 4,
 "nbformat_minor": 5
}
